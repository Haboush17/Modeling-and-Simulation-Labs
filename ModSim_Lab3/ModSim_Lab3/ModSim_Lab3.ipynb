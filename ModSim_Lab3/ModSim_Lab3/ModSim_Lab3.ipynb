{
 "cells": [
  {
   "cell_type": "markdown",
   "metadata": {
    "id": "Im2Mmg04EkJB"
   },
   "source": [
    "<figure>\n",
    "  <IMG src=\"figures/logo-esi-sba.png\" WIDTH=300 height=\"100\" ALIGN=\"right\">\n",
    "</figure>\n",
    "\n",
    "# Practical Trainining Series on Modeling And Simulation   \n",
    "*By Dr. Belkacem KHALDI (b.khaldi@esi-sba.dz)*"
   ]
  },
  {
   "cell_type": "markdown",
   "metadata": {
    "id": "VCoTk4fMEkJB"
   },
   "source": [
    "## Notebook 3: Probabilities and Random Number Simulation\n",
    "In this Notebook you learn how to deal with Probabilities and Random Number Simulation. Many of the functions we will use are included in the `random` subpackage of `numpy`. We will import this package and call it `rnd` so that we don't have to type `np.random`. all the time."
   ]
  },
  {
   "cell_type": "code",
   "execution_count": 1,
   "metadata": {
    "id": "lTjkPDt4EkJR"
   },
   "outputs": [],
   "source": [
    "%matplotlib inline\n",
    "import numpy as np\n",
    "import matplotlib.pyplot as plt\n",
    "import numpy.random as rnd"
   ]
  },
  {
   "cell_type": "markdown",
   "metadata": {
    "id": "TGXTqwsQEkJR"
   },
   "source": [
    "### 1- Introduction to Probability\n",
    "Probability is a means of determining and describing the likelihood of an event occurring or the truth of a situation. It's a helpful mathematical tool for coping with unpredictability and uncertainty.\n",
    "\n",
    "### Exemple 1: Tossing a coin\n",
    "Currency coins are often said to have two sides: a \"head\" and a \"tail\"\n",
    "\n",
    "<figure>\n",
    "  <IMG src=\"figures/coin-100dz.jpeg\" WIDTH=300 height=\"100\" ALIGN=\"right\">\n",
    "</figure>\n",
    "\n",
    "A fair coin is one that is equally likely to land on either side when tossed or flipped. The side that shows up on top once the coin lands is referred to as the result of a coin toss/flip.\n",
    "    \n",
    "If we have precise measurements of the physical environment and the forces used to toss the coin, we may be able to predict the outcome. However, we rarely have access to this information, making it difficult (if not impossible) to execute all of these measurements with adequate precision.\n",
    "    \n",
    "The assumption of randomness allows you to deal with limited data and unpredictable outcomes. Tossing a coin is described as an experiment that can yield one of two outcomes at random. Probability is a metric for determining how likely each outcome is.\n",
    "\n",
    "> **Question**: If you flip a fair coin, what is the **probability** of **getting heads**?\n",
    "\n",
    "When we have several equally likely possible outcomes, the probability of a condition (also called event) is defined as:\n",
    "\n",
    "> $$P(\\textrm{condition}) = \\frac{\\textrm{ No. of outcomes satisfying the condition }} {\\textrm{Number of equally likely outcomes}}$$\n",
    "\n",
    "**The probability of a condition/event is a number between 0 and 1.**\n",
    "\n",
    "\n",
    "We can define a function `probability` to perform this calculation."
   ]
  },
  {
   "cell_type": "code",
   "execution_count": 2,
   "metadata": {
    "id": "ZmnEokrmEkJR"
   },
   "outputs": [],
   "source": [
    "def probability(matching_outcomes, total_outcomes):\n",
    "    return matching_outcomes/total_outcomes"
   ]
  },
  {
   "cell_type": "markdown",
   "metadata": {
    "id": "lCRJ-Q22EkJR"
   },
   "source": [
    "When we toss a fair coin, there are just two conceivable outcomes: \"head\" or \"tail,\" both equally likely. One of the outcomes matches the condition \"getting a head\".\n",
    "\n",
    "With this information, we can now use the formula to compute the probability of a getting a head."
   ]
  },
  {
   "cell_type": "code",
   "execution_count": 3,
   "metadata": {
    "colab": {
     "base_uri": "https://localhost:8080/"
    },
    "id": "PgMWjYYZEkJR",
    "outputId": "087bfccf-4185-42e8-927f-f6c444d0685a"
   },
   "outputs": [
    {
     "name": "stdout",
     "output_type": "stream",
     "text": [
      "The probability of getting a head: 0.5\n"
     ]
    }
   ],
   "source": [
    "p_head = probability(matching_outcomes=1, total_outcomes=2)\n",
    "print(\"The probability of getting a head:\", p_head)"
   ]
  },
  {
   "cell_type": "markdown",
   "metadata": {
    "id": "2IBIlND2EkJR"
   },
   "source": [
    "### Challenge 1\n",
    "Using the `probability` function mention above, compute the probability of the following queries when you flip a fair coin:\n",
    "<ol>\n",
    "  <li>What is the probability  of getting a tail ? </li>\n",
    "  <li>What is the probability of getting a head or a tail?</li>\n",
    "  <li>What is the probability of receiving neither a head nor a tail?</li>\n",
    "</ol>\n",
    "   "
   ]
  },
  {
   "cell_type": "code",
   "execution_count": 4,
   "metadata": {
    "id": "38_KOfY2EkJR"
   },
   "outputs": [
    {
     "name": "stdout",
     "output_type": "stream",
     "text": [
      "0.5\n",
      "1.0\n",
      "0.0\n"
     ]
    }
   ],
   "source": [
    "#the probability of getting a tail \n",
    "print(probability(1, 2))\n",
    "#the probability of getting a head or a tail\n",
    "print(probability(2, 2))\n",
    "#the probability of receiving neither a head nor a tail\n",
    "print(probability(0, 2))"
   ]
  },
  {
   "cell_type": "markdown",
   "metadata": {
    "id": "7dDKn8QCEkJR"
   },
   "source": [
    "### Exemple 2: Rolling dice\n",
    "\n",
    "A die (plural dice) is a 6-sided cube with a varied number of dots on each face (one to six). The number of dots that appear on the top face of a die after it has been rolled or thrown is known as the result of the roll/throw. As a result, a die throw can result in one of the following outcomes: 1, 2, 3, 4, 5, or 6.\n",
    "\n",
    "<img src=\"figures/one-dice.jpg\" width=\"100\">\n",
    "\n",
    "> **Question**: What is the probability of getting a four when a fair die is rolled?\n",
    "\n",
    "All outcomes are equally likely for a fair die, and the only the outcome 4 satisfies the condition \"getting a 4\". Thus, we can calculate the probability of the condition as follows:"
   ]
  },
  {
   "cell_type": "code",
   "execution_count": 5,
   "metadata": {
    "colab": {
     "base_uri": "https://localhost:8080/"
    },
    "id": "W8jK3IioEkJR",
    "outputId": "bbd95e6f-1400-4cef-a9be-354c90cc3f7f"
   },
   "outputs": [
    {
     "name": "stdout",
     "output_type": "stream",
     "text": [
      "The probability of getting a 4: 0.16666666666666666\n"
     ]
    }
   ],
   "source": [
    "p_die_4=probability(matching_outcomes=1, total_outcomes=6)\n",
    "print(\"The probability of getting a 4:\", p_die_4)"
   ]
  },
  {
   "cell_type": "markdown",
   "metadata": {
    "id": "clasSQUDEkJR"
   },
   "source": [
    "### Challenge 2\n",
    "Compute the probability of the following queries when rolling a die:\n",
    "\n",
    "<ol>\n",
    "  <li>What is the probability of getting <b> an even number </b>? </li>\n",
    "  <li>What is the probability of getting <b>a three or a six </b>?</li>\n",
    "  <li>What is the probability of getting <b>a three and a six</b>?</li>\n",
    "   <li> What is the probability of getting <b> a three or a seven</b>?</li>\n",
    "</ol>"
   ]
  },
  {
   "cell_type": "code",
   "execution_count": 6,
   "metadata": {
    "id": "EzA-k4ujEkJR"
   },
   "outputs": [
    {
     "name": "stdout",
     "output_type": "stream",
     "text": [
      "0.5\n",
      "0.3333333333333333\n",
      "0.0\n",
      "0.16666666666666666\n"
     ]
    }
   ],
   "source": [
    "#the probability of getting an even number\n",
    "print(probability(3, 6))\n",
    "# the probability of getting a three or a six\n",
    "print(probability(2, 6))\n",
    "#the probability of getting a three and a six\n",
    "print(probability(0, 6))\n",
    "#the probability of getting a three or a seven\n",
    "print(probability(1, 6))"
   ]
  },
  {
   "cell_type": "markdown",
   "metadata": {
    "id": "XLZt7SKYEkJR"
   },
   "source": [
    "### Exemple 3: Playing Cards\n",
    "\n",
    "<img src=\"figures/deck_cards.jpg\" width=\"200\">\n",
    "\n",
    "There are 52 cards in a deck of playing cards. Each card is assigned to one of four suits: Spade ♠️, Clubs ♣️, Hearts ♥️ or Diamonds ♦️. Each suit consists of 13 cards: *Ace, 2, 3, 4, 5, 6, 7, 8, 9, 10, Jack, Queen*, and *King*. Hearts and diamonds are red, but spades and clubs are black.\n",
    "\n",
    "<img src=\"figures/playing_cards_deck.svg.png\" >\n",
    "\n",
    "\n",
    "\n",
    "\n",
    "In a well-shuffled deck of cards, any card is equally likely to end up at any position in the deck.\n",
    "\n",
    "<img src=\"figures/giphy.gif\" >\n",
    "\n",
    "\n",
    "> **Question**: What is the probability of **drawing a King of Hearts** from a well-shuffled deck of cards?\n",
    "\n",
    "There are 52 equally likely outcomes of the card being drawn, and just one outcome matches this condition."
   ]
  },
  {
   "cell_type": "code",
   "execution_count": 7,
   "metadata": {
    "colab": {
     "base_uri": "https://localhost:8080/"
    },
    "id": "FVWEsCxmEkJR",
    "outputId": "0ac40093-5b43-4888-ab55-4b8537849768"
   },
   "outputs": [
    {
     "name": "stdout",
     "output_type": "stream",
     "text": [
      "The probability of getting a King of Hearts: 0.019230769230769232\n"
     ]
    }
   ],
   "source": [
    "p_king_of_hearts=probability(matching_outcomes=1, total_outcomes=52)\n",
    "print(\"The probability of getting a King of Hearts:\", p_king_of_hearts)"
   ]
  },
  {
   "cell_type": "markdown",
   "metadata": {
    "id": "eOZRRP5jEkJR"
   },
   "source": [
    "### Challenge 3\n",
    "What is the probability of **drawing a red card** from a well-shuffled deck of cards.\n",
    "\n",
    "> *Hint*: Count the number of red cards.\n",
    "\n",
    "What is the probability of **drawing a spade ♠️** from a well-shuffled deck of cards.\n",
    "\n",
    "What is the probability of **drawing a 7** from a well-shuffled deck of cards.\n",
    "\n",
    "What is the probability of **drawing a card that's a spade and a jack** from a well-shuffled deck of cards?"
   ]
  },
  {
   "cell_type": "code",
   "execution_count": 11,
   "metadata": {
    "id": "ser-NIvZEkJR"
   },
   "outputs": [
    {
     "name": "stdout",
     "output_type": "stream",
     "text": [
      "the probability of drawing a red card from a well-shuffled deck of cards : 0.5\n",
      "the probability of drawing a spade ♠️ from a well-shuffled deck of cards: 0.25\n",
      "the probability of drawing a 7 from a well-shuffled deck of cards: 0.07692307692307693\n",
      "the probability of drawing a card that's a spade and a jack from a well-shuffled deck of cards: 0.019230769230769232\n"
     ]
    }
   ],
   "source": [
    "def probability(matching_outcomes, total_outcomes=52):\n",
    "    return matching_outcomes / total_outcomes\n",
    "#the probability of drawing a red card from a well-shuffled deck of cards\n",
    "print(\"the probability of drawing a red card from a well-shuffled deck of cards :\",probability(26))\n",
    "#the probability of drawing a spade ♠️ from a well-shuffled deck of cards.\n",
    "print(\"the probability of drawing a spade ♠️ from a well-shuffled deck of cards:\",probability(13))\n",
    "#the probability of drawing a 7 from a well-shuffled deck of cards\n",
    "print(\"the probability of drawing a 7 from a well-shuffled deck of cards:\",probability(4))\n",
    "#the probability of drawing a card that's a spade and a jack from a well-shuffled deck of cards\n",
    "print(\"the probability of drawing a card that's a spade and a jack from a well-shuffled deck of cards:\",probability(1))"
   ]
  },
  {
   "cell_type": "markdown",
   "metadata": {
    "id": "kN80WERmEkJR"
   },
   "source": [
    "### Bayes's Theorem\n",
    "\n",
    "There are two ways to think about Bayes's Theorem:\n",
    "\n",
    "* It is a divide-and conquer strategy for computing conditional probabilities.  If it's hard to compute $P(A|B)$ directly, sometimes it is easier to compute the terms on the other side of the equation: $P(A)$, $P(B|A)$, and $P(B)$.\n",
    "\n",
    "* It is also a recipe for updating beliefs in the light of new data.\n",
    "\n",
    "When we are working with the second interpretation, we often write Bayes's Theorem with different variables.  Instead of $A$ and $B$, we use $H$ and $D$, where\n",
    "\n",
    "* $H$ stands for \"hypothesis\", and\n",
    "\n",
    "* $D$ stands for \"data\".\n",
    "\n",
    "So we write Bayes's Theorem like this:\n",
    "\n",
    "$P(A|B) =\\frac{P(A) ~ P(B|A)}{P(B)}$\n",
    "\n",
    "$P(H|D) =\\frac{P(H) ~ P(D|H)}{P(D)}$\n",
    "\n",
    "In this context, each term has a name:\n",
    "\n",
    "* $P(H)$ is the \"prior probability\" of the hypothesis, which represents how confident you are that $H$ is true prior to seeing the data,\n",
    "\n",
    "* $P(D|H)$ is the \"likelihood\" of the data, which is the probability of seeing $D$ if the hypothesis is true,\n",
    "\n",
    "* $P(D)$ is the \"total probability of the data\", that is, the chance of seeing $D$ regardless of whether $H$ is true or not.\n",
    "\n",
    "* $P(H|D)$ is the \"posterior probability\" of the hypothesis, which indicates how confident you should be that $H$ is true after taking the data into account.\n",
    "\n",
    "An example will make all of this clearer."
   ]
  },
  {
   "cell_type": "markdown",
   "metadata": {
    "id": "gI32GW57EkJR"
   },
   "source": [
    "### The cookie problem\n",
    "\n",
    "\n",
    "> Suppose you have two bowls of cookies.  Bowl 1 contains 30 vanilla and 10 chocolate cookies.  Bowl 2 contains 20 of each kind.\n",
    ">\n",
    "> You choose one of the bowls at random and, without looking into the bowl, choose one of the cookies at random.  It turns out to be a vanilla cookie.\n",
    ">\n",
    "> What is the chance that you chose Bowl 1?\n",
    "\n",
    "We'll assume that there was an equal chance of choosing either bowl and an equal chance of choosing any cookie in the bowl."
   ]
  },
  {
   "cell_type": "markdown",
   "metadata": {
    "id": "B1C7l8vWEkJR"
   },
   "source": [
    "We can solve this problem using Bayes's Theorem. First, I'll define  $H$  and  $D$ :\n",
    "\n",
    "$H$  is the hypothesis that the bowl you chose is Bowl 1.\n",
    "\n",
    "$D$  is the data that the cookie is vanilla.\n",
    "\n",
    "What we want is the posterior probability of  $H$ , which is  $P(H|D)$ . It is not obvious how to compute it directly, but if we can figure out the terms on the right-hand side of Bayes's Theorem, we can get to it indirectly.\n",
    "\n",
    "$P(H)$ is the prior probability of $H$, which is the probability of choosing Bowl 1 before we see the data. If there was an equal chance of choosing either bowl, $P(H)$ is 1/2.\n",
    "\n",
    "$P(D|H)$ is the likelihood of the data, which is the chance of getting a vanilla cookie if $H$ is true, in other words, the chance of getting a vanilla cookie from Bowl 1, which is 30/40.\n",
    "\n",
    "$P(D)$ is the total probability of the data, which is the chance of getting a vanilla cookie whether $𝐻$ is true or not. In this example, we can figure out $P(D)$ directly: because the bowls are equally likely, and they contain the same number of cookies, you were equally likely to choose any cookie. Combining the two bowls, there are 50 vanilla and 30 chocolate cookies, so the probability of choosing a vanilla cookie is 50/80.\n",
    "\n",
    "Now that we have the terms on the right-hand side, we can use Bayes's Theorem to combine them."
   ]
  },
  {
   "cell_type": "code",
   "execution_count": 12,
   "metadata": {
    "colab": {
     "base_uri": "https://localhost:8080/"
    },
    "id": "SuQB3sM8EkJR",
    "outputId": "da229b50-03db-423f-a681-d95e72215620"
   },
   "outputs": [
    {
     "name": "stdout",
     "output_type": "stream",
     "text": [
      "The probability of choosing Bowl 1: 0.6\n"
     ]
    }
   ],
   "source": [
    "#𝑃(𝐻)\n",
    "prior = probability(matching_outcomes=1, total_outcomes=2)\n",
    "#𝑃(𝐷|𝐻)\n",
    "likelihood =probability(matching_outcomes=30, total_outcomes=40)\n",
    "#𝑃(𝐷)\n",
    "prob_data = probability(matching_outcomes=50, total_outcomes=80)\n",
    "#computing 𝑃(𝐻|𝐷)\n",
    "posterior = prior * likelihood / prob_data\n",
    "print(\"The probability of choosing Bowl 1:\", posterior)"
   ]
  },
  {
   "cell_type": "markdown",
   "metadata": {
    "id": "rbOP8-UjEkJR"
   },
   "source": [
    "The posterior probability is  0.6 , a little higher than the prior, which was  0.5 .\n",
    "\n",
    "So the vanilla cookie makes us a little more certain that we chose Bowl 1.\n",
    "\n",
    "### Challenge 4\n",
    "What if we had chosen a chocolate cookie instead; what would be the posterior probability of Bowl 1?"
   ]
  },
  {
   "cell_type": "code",
   "execution_count": 13,
   "metadata": {
    "id": "zc1D49qwEkJR"
   },
   "outputs": [
    {
     "name": "stdout",
     "output_type": "stream",
     "text": [
      "La probabilité d'avoir choisi le Bol 1 sachant que le cookie est au chocolat : 0.3333333333333333\n"
     ]
    }
   ],
   "source": [
    "def probability(matching_outcomes, total_outcomes):\n",
    "    return matching_outcomes / total_outcomes\n",
    "\n",
    "# P(H) : Probabilité a priori de choisir le Bol 1\n",
    "prior = probability(matching_outcomes=1, total_outcomes=2)\n",
    "\n",
    "# P(D' | H) : Probabilité d'obtenir un cookie au chocolat sachant qu'on a choisi le Bol 1\n",
    "likelihood = probability(matching_outcomes=10, total_outcomes=40)\n",
    "\n",
    "# P(D') : Probabilité totale d'obtenir un cookie au chocolat (tous bols confondus)\n",
    "prob_data = (probability(matching_outcomes=10, total_outcomes=40) * prior) + \\\n",
    "            (probability(matching_outcomes=20, total_outcomes=40) * prior)\n",
    "\n",
    "# P(H | D') : Probabilité a posteriori d'avoir choisi le Bol 1 sachant qu'on a un cookie au chocolat\n",
    "posterior = (likelihood * prior) / prob_data\n",
    "\n",
    "print(\"La probabilité d'avoir choisi le Bol 1 sachant que le cookie est au chocolat :\", posterior)\n"
   ]
  },
  {
   "cell_type": "markdown",
   "metadata": {
    "id": "QTzuWUR_EkJR"
   },
   "source": [
    "### 2- Random Numbers Generation\n",
    "A random number generator lets you draw, at random, a number from a specified distribution. Several random number generators are included in the `random` subpackage of `numpy`.\n",
    "\n",
    "#### The random.random() function\n",
    " The `random.random()` function returns the next nearest  foating-point value from the generated sequence. All return values are enclosed between 0 and 1.0. Let's explore a practical example that uses this function:"
   ]
  },
  {
   "cell_type": "code",
   "execution_count": 14,
   "metadata": {
    "colab": {
     "base_uri": "https://localhost:8080/"
    },
    "id": "AlEYCiHpEkJR",
    "outputId": "e40f07b0-970a-4fdb-bfcb-4d864de3501e",
    "scrolled": true
   },
   "outputs": [
    {
     "name": "stdout",
     "output_type": "stream",
     "text": [
      "0.0540 0.8965 0.8820 0.3733 0.9245 0.9078 0.5769 0.7307 0.9736 0.0411 0.8358 0.3160 0.1308 0.5824 0.3466 0.8006 0.6000 0.0369 0.8268 0.6138 "
     ]
    }
   ],
   "source": [
    "for i in range(20):\n",
    "    print('%05.4f' % rnd.random(), end=' ')"
   ]
  },
  {
   "cell_type": "markdown",
   "metadata": {
    "id": "nOqkhUJeEkJR"
   },
   "source": [
    "In the above example, 20 pseudorandom numbers are generated. Each number is printed in a format that includes 5 digits, including 4 decimal places.\n",
    "If we call the random() function again, we get a different sequence numbers:"
   ]
  },
  {
   "cell_type": "code",
   "execution_count": 15,
   "metadata": {
    "colab": {
     "base_uri": "https://localhost:8080/"
    },
    "id": "NW7xelo4EkJR",
    "outputId": "90ff253e-5597-4536-a130-82461f71001f"
   },
   "outputs": [
    {
     "name": "stdout",
     "output_type": "stream",
     "text": [
      "0.9356 0.0610 0.8657 0.7913 0.0845 0.1196 0.7390 0.9409 0.7115 0.5993 0.3183 0.4803 0.4952 0.2945 0.3033 0.0959 0.9994 0.2621 0.8882 0.8109 "
     ]
    }
   ],
   "source": [
    "for i in range(20):\n",
    "    print('%05.4f' % rnd.random(), end=' ')"
   ]
  },
  {
   "cell_type": "markdown",
   "metadata": {
    "id": "PiTlJwyeEkJR"
   },
   "source": [
    "#### The random.seed() function\n",
    "Internally, the random number generator starts with what is called a `seed`. The `seed` is a number and is generated automatically (and supposedly at random) when you call the random number generator. The value of the seed exactly defines the sequence of random numbers that you get. For example, let's set seed equal to 1:"
   ]
  },
  {
   "cell_type": "code",
   "execution_count": 17,
   "metadata": {
    "colab": {
     "base_uri": "https://localhost:8080/"
    },
    "id": "u8mY60EBEkJR",
    "outputId": "1607666a-8012-48da-9a69-2795b81be06b"
   },
   "outputs": [
    {
     "name": "stdout",
     "output_type": "stream",
     "text": [
      "0.4170 0.7203 0.0001 0.3023 0.1468 0.0923 0.1863 0.3456 0.3968 0.5388 0.4192 0.6852 0.2045 0.8781 0.0274 0.6705 0.4173 0.5587 0.1404 0.1981 "
     ]
    }
   ],
   "source": [
    "rnd.seed(1)\n",
    "for i in range(20):\n",
    "    print('%05.4f' % rnd.random(), end=' ')"
   ]
  },
  {
   "cell_type": "markdown",
   "metadata": {
    "id": "ToDwkYKVEkJR"
   },
   "source": [
    "If we now specify the `seed` again as 1, the exact same sequence is generated again."
   ]
  },
  {
   "cell_type": "code",
   "execution_count": 18,
   "metadata": {
    "colab": {
     "base_uri": "https://localhost:8080/"
    },
    "id": "sVuy9XquEkJR",
    "outputId": "7cf910ad-5898-44c9-f2e8-e6f9ded83e2b"
   },
   "outputs": [
    {
     "name": "stdout",
     "output_type": "stream",
     "text": [
      "0.4170 0.7203 0.0001 0.3023 0.1468 0.0923 0.1863 0.3456 0.3968 0.5388 0.4192 0.6852 0.2045 0.8781 0.0274 0.6705 0.4173 0.5587 0.1404 0.1981 "
     ]
    }
   ],
   "source": [
    "rnd.seed(1)\n",
    "for i in range(20):\n",
    "    print('%05.4f' % rnd.random(), end=' ')"
   ]
  },
  {
   "cell_type": "markdown",
   "metadata": {
    "id": "_eRdaKjmEkJR"
   },
   "source": [
    "#### The random.uniform() function\n",
    "The `random.uniform()` function generates numbers within a defined numeric range. Let's look at an example:"
   ]
  },
  {
   "cell_type": "code",
   "execution_count": 19,
   "metadata": {
    "colab": {
     "base_uri": "https://localhost:8080/"
    },
    "id": "QRpkfbvfEkJR",
    "outputId": "3af26e96-94dd-40e8-c996-a2c31efeb7b7"
   },
   "outputs": [
    {
     "name": "stdout",
     "output_type": "stream",
     "text": [
      "80.2737 96.8579 32.0290 69.5399 87.7625 89.5661 9.4194 4.8664 17.8132 87.9361 10.7363 42.6897 95.8311 53.7834 69.4958 32.2360 68.9636 83.6279 2.8105 75.2643 "
     ]
    }
   ],
   "source": [
    "for i in range(20):\n",
    "    print('%6.4f' % rnd.uniform(1, 100), end=' ')"
   ]
  },
  {
   "cell_type": "markdown",
   "metadata": {
    "id": "V_cONPrvEkJR"
   },
   "source": [
    "In the above example, 20 random numbers are generated in the range of [1,100)\n",
    "\n",
    "#### The random.randint() function\n",
    "This function generates random integers.  The arguments for `randint()` are the values of the range, including the extremes.  The numbers may be negative or positive, but the  1st value should be less than the second. Let's look at an example:"
   ]
  },
  {
   "cell_type": "code",
   "execution_count": 21,
   "metadata": {
    "colab": {
     "base_uri": "https://localhost:8080/"
    },
    "id": "L2-Mpp_uEkJR",
    "outputId": "d1bbe712-1aea-427a-af1d-d70c8c7cfb90"
   },
   "outputs": [
    {
     "name": "stdout",
     "output_type": "stream",
     "text": [
      "66 36 -68 62 -90 -77 43 -13 -75 99 -8 -26 90 -54 60 51 83 -35 13 -23 "
     ]
    }
   ],
   "source": [
    "for i in range(20):\n",
    "    print(rnd.randint(-100, 100), end=' ')"
   ]
  },
  {
   "cell_type": "markdown",
   "metadata": {
    "id": "2tVKJscREkJR"
   },
   "source": [
    "In the above example, 20 random integer numbers are generated in the range of [-100,100]\n",
    "\n",
    "#### The random.choice() function\n",
    "A common use for random number generators is to select a random element from a sequence of enumerated values, even if these values are not numbers.  The `choice()` function returns a random element of the non-empty sequence passed as an argument. This function is suitable to use in extracting values from a predetermined list:"
   ]
  },
  {
   "cell_type": "code",
   "execution_count": 22,
   "metadata": {
    "colab": {
     "base_uri": "https://localhost:8080/"
    },
    "id": "0M2s3n0XEkJR",
    "outputId": "bbbbd9c4-f642-4a1e-b775-03355f2d9031"
   },
   "outputs": [
    {
     "name": "stdout",
     "output_type": "stream",
     "text": [
      "Randomly selected item from Cities list is -  London\n",
      "Randomly selected item from Cities list is -  Rome\n",
      "Randomly selected item from Cities list is -  Madrid\n",
      "Randomly selected item from Cities list is -  Los Angeles\n",
      "Randomly selected item from Cities list is -  Berlin\n"
     ]
    }
   ],
   "source": [
    "CitiesList = ['Rome','New York','Algiers','London','Berlin','Moskov',\n",
    "'Los Angeles','Paris','Madrid','Tokio','Toronto']\n",
    "for i in range(5):\n",
    "    CitiesItem = rnd.choice(CitiesList)\n",
    "    print (\"Randomly selected item from Cities list is - \",CitiesItem)"
   ]
  },
  {
   "cell_type": "markdown",
   "metadata": {
    "id": "JjYAsLSwEkJR"
   },
   "source": [
    "In the above example, 5 random elements are selected from the sequence list CitiesList. At each iteration of the cycle, a new element is extracted from the list containingthe names of the cities.\n",
    "\n",
    "#### Selecting n random values from an array\n",
    "Many simulations require random samples from a population of input values.  The `size` option in the `choice()` function is for that purpose. Let's look at an example:"
   ]
  },
  {
   "cell_type": "code",
   "execution_count": 23,
   "metadata": {
    "colab": {
     "base_uri": "https://localhost:8080/"
    },
    "id": "vmkaLPLiEkJR",
    "outputId": "b79ecea0-5830-4be1-82be-f35dcd89b49e"
   },
   "outputs": [
    {
     "name": "stdout",
     "output_type": "stream",
     "text": [
      "Initial Data List =  range(10, 100, 10)\n",
      "Sample Data List =  [60 70 30 60 80]\n"
     ]
    }
   ],
   "source": [
    "DataList = range(10,100,10)\n",
    "print(\"Initial Data List = \",DataList)\n",
    "DataSample = rnd.choice(DataList,size=5)\n",
    "print(\"Sample Data List = \",DataSample)"
   ]
  },
  {
   "cell_type": "markdown",
   "metadata": {
    "id": "0XN2aODIEkJh"
   },
   "source": [
    "In the above example, only 5 elements of the initial list were selected, and this selection was completely random.\n",
    "### 2- Exploring Probability Distributions\n",
    "#### Uniform Distribution\n",
    "This distribution generates random values uniformly distributed over the half-open interval [a,b).\n",
    "Any value within the given interval is equally likely to be drawn by uniform distribution. Let's look at an example:"
   ]
  },
  {
   "cell_type": "code",
   "execution_count": 24,
   "metadata": {
    "colab": {
     "base_uri": "https://localhost:8080/",
     "height": 430
    },
    "id": "-zwIQOvTEkJh",
    "outputId": "51bad96d-1000-4776-d829-32a224b40d8a"
   },
   "outputs": [
    {
     "data": {
      "image/png": "[encoded data removed]",
      "text/plain": [
       "<Figure size 640x480 with 1 Axes>"
      ]
     },
     "metadata": {},
     "output_type": "display_data"
    }
   ],
   "source": [
    "#Initializing uniform distribution parameters\n",
    "a=1\n",
    "b=100\n",
    "N=100\n",
    "#Randomly generate 100 numbers between a and b\n",
    "#using uniform distribution\n",
    "X1=rnd.uniform(a,b,N)\n",
    "#Ploting X1 using matplotlib.pyplot library\n",
    "plt.plot(X1)\n",
    "plt.show()"
   ]
  },
  {
   "cell_type": "markdown",
   "metadata": {
    "id": "DQI5KuxuEkJh"
   },
   "source": [
    "Lets now analyze how the generated values are distributed in the interval considered. We draw a graph of the probability density function as follows:"
   ]
  },
  {
   "cell_type": "code",
   "execution_count": 25,
   "metadata": {
    "colab": {
     "base_uri": "https://localhost:8080/",
     "height": 430
    },
    "id": "l8Yng-4WEkJh",
    "outputId": "8094722b-7a53-4dc7-a608-2ce6520813c1"
   },
   "outputs": [
    {
     "data": {
      "image/png": "[encoded data removed]",
      "text/plain": [
       "<Figure size 640x480 with 1 Axes>"
      ]
     },
     "metadata": {},
     "output_type": "display_data"
    }
   ],
   "source": [
    "plt.figure()\n",
    "plt.hist(X1, density=True, histtype='stepfilled',\n",
    "alpha=0.2)\n",
    "plt.show()"
   ]
  },
  {
   "cell_type": "markdown",
   "metadata": {
    "id": "XOQIXtrDEkJh"
   },
   "source": [
    "Here, we can see that the generated values are distributed almost evenly throughout the range.\n",
    "Let's now see What happens if we increase the number of generated values?\n",
    "Then, we repeat the commands to generate up to 10000 random numbers uniformly distributed between 1 and 100."
   ]
  },
  {
   "cell_type": "code",
   "execution_count": 26,
   "metadata": {
    "colab": {
     "base_uri": "https://localhost:8080/",
     "height": 843
    },
    "id": "_M6WXcahEkJh",
    "outputId": "1b69ae6d-a41b-4196-d893-19eaa1ec292a"
   },
   "outputs": [
    {
     "data": {
      "image/png": "[encoded data removed]",
      "text/plain": [
       "<Figure size 640x480 with 1 Axes>"
      ]
     },
     "metadata": {},
     "output_type": "display_data"
    },
    {
     "data": {
      "image/png": "[encoded data removed]",
      "text/plain": [
       "<Figure size 640x480 with 1 Axes>"
      ]
     },
     "metadata": {},
     "output_type": "display_data"
    }
   ],
   "source": [
    "a=1\n",
    "b=100\n",
    "N=10000\n",
    "\n",
    "X2=rnd.uniform(a,b,N)\n",
    "plt.figure()\n",
    "plt.plot(X2)\n",
    "plt.show()\n",
    "\n",
    "plt.figure()\n",
    "plt.hist(X2, density=True, histtype='stepfilled',\n",
    "alpha=0.2)\n",
    "plt.show()"
   ]
  },
  {
   "cell_type": "markdown",
   "metadata": {
    "id": "yrgNJisbEkJh"
   },
   "source": [
    "Analyzing the previous histogram and comparing it with what we obtained in the case of N=100, we can see that this time, the distribution appears to be  flatter.  The distribution becomes more and more  flat as N increases.\n",
    "#### Binomial distribution\n",
    "The binomial distribution is the probability of obtaining $x$ successes in $t$ independent trials and is computed as follows:\n",
    "\n",
    "$p(x) =  \\binom{t}{x} p^t(1-p)^{t-x}, 0\\leq x \\leq t $\n",
    "where: $\\binom{t}{x}=\\frac{t!}{(t-p)!p!}$\n",
    "\n",
    "\n",
    "##### Example:\n",
    "<figure>\n",
    "  <IMG src=\"figures/one-dice.jpg\" WIDTH=100  ALIGN=\"right\">\n",
    "</figure>\n",
    "We throw a dice $10$ times and we want to study the binomial variable $x$= {number of times a number<= 3 cames out}.  The parameters of the problem are:\n",
    "<ol>\n",
    "   <li>  $t=10$ </li>\n",
    "   <li>  $p=3*\\frac{1}{6}=0.5$ </li>\n",
    "   <li> $q=1-p=0.5$ </li>\n",
    "</ol>\n",
    "\n",
    "Let's now simulate this experiment:"
   ]
  },
  {
   "cell_type": "code",
   "execution_count": 27,
   "metadata": {
    "colab": {
     "base_uri": "https://localhost:8080/",
     "height": 430
    },
    "id": "0jkQ-VHeEkJh",
    "outputId": "881c49ce-a6a0-4279-d274-a90e847eee37"
   },
   "outputs": [
    {
     "data": {
      "image/png": "[encoded data removed]",
      "text/plain": [
       "<Figure size 640x480 with 1 Axes>"
      ]
     },
     "metadata": {},
     "output_type": "display_data"
    }
   ],
   "source": [
    "#Initializing Binomial distribution parameters\n",
    "N = 1000\n",
    "t = 10\n",
    "p = 0.5\n",
    "#Generate the Binomial probability distribution\n",
    "#Then Plot\n",
    "P1 = rnd.binomial(t,p,N)\n",
    "plt.plot(P1)\n",
    "plt.show()"
   ]
  },
  {
   "cell_type": "markdown",
   "metadata": {
    "id": "CzJ0o7NaEkJh"
   },
   "source": [
    "We now evaluate the probability density function as follows:"
   ]
  },
  {
   "cell_type": "code",
   "execution_count": 28,
   "metadata": {
    "colab": {
     "base_uri": "https://localhost:8080/",
     "height": 430
    },
    "id": "O1NBu-GoEkJh",
    "outputId": "62cb3727-f56c-49c6-a462-d34021c3c323"
   },
   "outputs": [
    {
     "data": {
      "image/png": "[encoded data removed]",
      "text/plain": [
       "<Figure size 640x480 with 1 Axes>"
      ]
     },
     "metadata": {},
     "output_type": "display_data"
    }
   ],
   "source": [
    "plt.figure()\n",
    "plt.hist(P1, density=True, alpha=0.8, histtype='bar',\n",
    "color = 'green', ec='black')\n",
    "plt.show()"
   ]
  },
  {
   "cell_type": "markdown",
   "metadata": {
    "id": "fCS6IwLiEkJh"
   },
   "source": [
    "We can see that all the areas of the binomial distributions, that is, the sum of the rectangles, being the sum of probability, are worth 1.\n",
    "\n",
    "#### Normal distribution\n",
    "The normal distribution is the most used continuous distribution in statistics. Recall that the probability density distribution of the normal distribution is given as follows:\n",
    "\n",
    "$f(x)=\\frac{1}{\\sqrt{2\\pi\\sigma^2}}e^{-(x-\\mu)^2/2\\sigma^2}$\n",
    "\n",
    "##### Example:\n",
    "The average height of $18$-year old boys of $1000$ boys is normally distributed with a mean of $180$ cm and a standard deviation of $7$ cm. The parameters of the problem are:\n",
    "<ol>\n",
    "   <li>  $\\mu=180$ </li>\n",
    "   <li>  $\\sigma=7$ </li>\n",
    "</ol>\n",
    "\n",
    "Now, let’s generate a normal distribution and evaluate the probability density function with Python code as follows"
   ]
  },
  {
   "cell_type": "code",
   "execution_count": 29,
   "metadata": {
    "colab": {
     "base_uri": "https://localhost:8080/",
     "height": 673
    },
    "id": "o5LxgSYqEkJh",
    "outputId": "48d47fc7-fda5-41e5-aeec-2744349597f9"
   },
   "outputs": [
    {
     "name": "stderr",
     "output_type": "stream",
     "text": [
      "C:\\Users\\Hibetelrahmane\\AppData\\Local\\Temp\\ipykernel_23044\\1834162390.py:11: UserWarning: \n",
      "\n",
      "`distplot` is a deprecated function and will be removed in seaborn v0.14.0.\n",
      "\n",
      "Please adapt your code to use either `displot` (a figure-level function with\n",
      "similar flexibility) or `histplot` (an axes-level function for histograms).\n",
      "\n",
      "For a guide to updating your code to use the new functions, please see\n",
      "https://gist.github.com/mwaskom/de44147ed2974457ad6372750bbe5751\n",
      "\n",
      "  Plot = sns.distplot(P1)\n"
     ]
    },
    {
     "data": {
      "text/plain": [
       "<Figure size 640x480 with 0 Axes>"
      ]
     },
     "execution_count": 29,
     "metadata": {},
     "output_type": "execute_result"
    },
    {
     "data": {
      "image/png": "[encoded data removed]",
      "text/plain": [
       "<Figure size 640x480 with 1 Axes>"
      ]
     },
     "metadata": {},
     "output_type": "display_data"
    },
    {
     "data": {
      "text/plain": [
       "<Figure size 640x480 with 0 Axes>"
      ]
     },
     "metadata": {},
     "output_type": "display_data"
    }
   ],
   "source": [
    "import numpy as np\n",
    "import matplotlib.pyplot as plt\n",
    "import seaborn as sns\n",
    "#Initializing Normal distribution parameters\n",
    "mu = 180\n",
    "sigma =7\n",
    "N=1000\n",
    "#Generate the Normal probability distribution\n",
    "P1 = rnd.normal(mu, sigma, N)\n",
    "#Then Plot\n",
    "Plot = sns.distplot(P1)\n",
    "plt.figure()"
   ]
  },
  {
   "cell_type": "markdown",
   "metadata": {
    "id": "tCLVgpqnEkJh"
   },
   "source": [
    "We can see that the distribution of the 1000 samples populations follow a normal distribution as ploted by `sns.distplot()` function"
   ]
  },
  {
   "cell_type": "markdown",
   "metadata": {
    "id": "ytORZuPEEkJh"
   },
   "source": [
    "## Approximating Probability throught Simulation\n",
    "### Flipping a coin\n",
    " Let's flip a coin $n$ times and computes the probability via simulation by counting the number of heads (0) and the number of tails (1). Note that the theoritical probability of getting a head or tail when flipping a coin is $p(x=0)=p(x=1)=0.5$.To compute the probability via simulation, we apply the relative frequency and probability concept seen in the course:\n",
    " $f(E)=\\frac{v}{n}\\cong P(E)$.\n",
    " Where $v$ is number of the times the event $E$ occurred and $n$ the number of tests carried out"
   ]
  },
  {
   "cell_type": "code",
   "execution_count": 30,
   "metadata": {
    "colab": {
     "base_uri": "https://localhost:8080/",
     "height": 486
    },
    "id": "utXAePwEEkJh",
    "outputId": "c386ff56-8160-425d-b88b-3a0629863f87"
   },
   "outputs": [
    {
     "name": "stdout",
     "output_type": "stream",
     "text": [
      "outcome 0 is 55 with probability=0.55\n",
      "outcome 1 is 45 with probability=0.45\n"
     ]
    },
    {
     "data": {
      "image/png": "[encoded data removed]",
      "text/plain": [
       "<Figure size 640x480 with 1 Axes>"
      ]
     },
     "metadata": {},
     "output_type": "display_data"
    }
   ],
   "source": [
    "rnd.seed(10)\n",
    "n=100\n",
    "flip = rnd.randint(0, 2, n)\n",
    "\n",
    "outcomes = np.zeros(2, dtype='int') # Two outcomes. heads are stored in outcome[0], tails in outcome[1]\n",
    "for i in range (2):\n",
    "    outcomes[i] = np.count_nonzero(flip == i)\n",
    "    print(f'outcome {i} is {outcomes[i]} with probability={outcomes[i]/n}')\n",
    "\n",
    "plt.bar(range(0, 2), outcomes/n)\n",
    "plt.xticks(range(0, 2))\n",
    "plt.xlabel('Probability of Head/tails')\n",
    "plt.ylabel('occurence in '+str(n)+' trials');"
   ]
  },
  {
   "cell_type": "markdown",
   "metadata": {
    "id": "pAho_30rEkJh"
   },
   "source": [
    "Now let's increase the numner of experiments and plot the probability simulation results"
   ]
  },
  {
   "cell_type": "code",
   "execution_count": 31,
   "metadata": {
    "colab": {
     "base_uri": "https://localhost:8080/",
     "height": 468
    },
    "id": "T4Qji7voEkJh",
    "outputId": "daa9218a-d86b-42ce-e218-8a8a4036e825"
   },
   "outputs": [
    {
     "data": {
      "text/plain": [
       "<matplotlib.legend.Legend at 0x1b9ff33a2d0>"
      ]
     },
     "execution_count": 31,
     "metadata": {},
     "output_type": "execute_result"
    },
    {
     "data": {
      "image/png": "[encoded data removed]",
      "text/plain": [
       "<Figure size 640x480 with 1 Axes>"
      ]
     },
     "metadata": {},
     "output_type": "display_data"
    }
   ],
   "source": [
    "experiments=np.arange(100, 100001, 100)\n",
    "\n",
    "outcomes_head=np.zeros(len(experiments))\n",
    "outcomes_tail=np.zeros(len(experiments))\n",
    "\n",
    "\n",
    "\n",
    "\n",
    "rnd.seed(10)\n",
    "i=0\n",
    "for n in experiments:\n",
    "    flip = rnd.randint(0, 2, n)\n",
    "    outcomes_head[i] = np.count_nonzero(flip == 0)/n\n",
    "    outcomes_tail[i] = np.count_nonzero(flip == 1)/n\n",
    "    i=i+1\n",
    "\n",
    "\n",
    "plt.plot(experiments, outcomes_head,label='Simulation (Head)')\n",
    "plt.plot(experiments, outcomes_tail,label='Simulation (Tail)')\n",
    "plt.hlines(y = 0.5, xmin = experiments[0], xmax = experiments[-1],colors=\"black\",label='Theoritical')\n",
    "plt.xlabel('Itteration $n$')\n",
    "plt.ylabel('Probability');\n",
    "plt.legend()"
   ]
  },
  {
   "cell_type": "markdown",
   "metadata": {
    "id": "3cjOrrtKEkJn"
   },
   "source": [
    "We can see that the probability computed by simulation eventually converges to the true value as more experiments are conducted."
   ]
  },
  {
   "cell_type": "markdown",
   "metadata": {
    "id": "WJK2vdFYEkJn"
   },
   "source": [
    "## Challenges\n",
    "### Challenge 5: Birth Weight of New Born Babies\n",
    "The birth weight (in kilograms) of the $3.226$ new born babies is normally distributed with a mean of $3.39$ klg and a standard deviation of $0.55$ klg.\n",
    "Define your problem parameters.\n",
    "Generate the normal distribution and evaluate the probability density function."
   ]
  },
  {
   "cell_type": "code",
   "execution_count": 38,
   "metadata": {
    "id": "NC8mg3OUEkJn"
   },
   "outputs": [
    {
     "name": "stdout",
     "output_type": "stream",
     "text": [
      "PDF at mean (3.39 kg): 0.7253\n"
     ]
    }
   ],
   "source": [
    "# Import required libraries\n",
    "import numpy as np\n",
    "import matplotlib.pyplot as plt\n",
    "from scipy.stats import norm\n",
    "\n",
    "# Define the parameters\n",
    "mean = 3.39  # Mean birth weight (μ)\n",
    "std_dev = 0.55  # Standard deviation (σ)\n",
    "num_babies = 3226  # Number of babies\n",
    "\n",
    "# Generate a range of birth weights (e.g., from 1.5 kg to 5.5 kg)\n",
    "birth_weights = np.linspace(1.5, 5.5, 1000)\n",
    "\n",
    "# Calculate the PDF for each birth weight\n",
    "pdf_values = norm.pdf(birth_weights, mean, std_dev)\n",
    "# Evaluate PDF at specific points\n",
    "pdf_at_mean = norm.pdf(mean, mean, std_dev)  # PDF at the mean (3.39 kg)\n",
    "#pdf_at_4kg = norm.pdf(4.0, mean, std_dev)  # PDF at 4.0 kg\n",
    "\n",
    "print(f\"PDF at mean (3.39 kg): {pdf_at_mean:.4f}\")\n",
    "#print(f\"PDF at 4.0 kg: {pdf_at_4kg:.4f}\")"
   ]
  },
  {
   "cell_type": "markdown",
   "metadata": {
    "id": "xyc_1HV0EkJn"
   },
   "source": [
    "### Challenge 6: Crime Survey\n",
    "An FBI survey of 1000 reports shows that about 80% of all property crimes go unsolved. Suppose that in your town 3 such crimes are committed and they are each deemed independent of each other.\n",
    "<ol>\n",
    "  <li>Simulate this experiement and evaluate the probability density function</li>\n",
    "  <li>Compute the probability that 1 of 3 of these crimes will be solved?</li>\n",
    "</ol>\n",
    "\n",
    "#### Hint\n",
    "The problem above follows a binomial distribution since the following conditions are satisfied:\n",
    "<ul>\n",
    "  <li>Does it satisfy a fixed number of trials? YES the number of trials is fixed at 3 </li>\n",
    "  <li>Does it have only 2 outcomes? YES (Solved and unsolved)</li>\n",
    "  <li>Do all the trials have the same probability of success? YES (p = (100%-80%)=0.2)</li>\n",
    "</ul>\n"
   ]
  },
  {
   "cell_type": "code",
   "execution_count": 34,
   "metadata": {
    "id": "xgaFrga0EkJn"
   },
   "outputs": [
    {
     "name": "stdout",
     "output_type": "stream",
     "text": [
      "Probability that 1 of 3 crimes will be solved: 0.3840\n"
     ]
    },
    {
     "data": {
      "image/png": "[encoded data removed]",
      "text/plain": [
       "<Figure size 1000x600 with 1 Axes>"
      ]
     },
     "metadata": {},
     "output_type": "display_data"
    }
   ],
   "source": [
    "# Import required libraries\n",
    "from scipy.stats import binom\n",
    "import numpy as np\n",
    "import matplotlib.pyplot as plt\n",
    "\n",
    "# Set random seed for reproducibility\n",
    "np.random.seed(42)\n",
    "\n",
    "# Parameters\n",
    "n = 3  # Number of crimes (trials)\n",
    "p = 0.2  # Probability of a crime being solved\n",
    "\n",
    "# Simulate the experiment (e.g., 10,000 simulations)\n",
    "simulations = binom.rvs(n, p, size=10000)\n",
    "\n",
    "# Calculate P(X = 1)\n",
    "prob_1_solved = binom.pmf(1, n, p)\n",
    "\n",
    "print(f\"Probability that 1 of 3 crimes will be solved: {prob_1_solved:.4f}\")\n",
    "\n",
    "# Possible values of k (number of solved crimes)\n",
    "k_values = np.arange(0, n+1)\n",
    "\n",
    "# Calculate PMF for each k\n",
    "pmf_values = binom.pmf(k_values, n, p)\n",
    "\n",
    "# Plot the PMF\n",
    "plt.figure(figsize=(10, 6))\n",
    "plt.bar(k_values, pmf_values, color='blue', alpha=0.6, label=f\"Binomial PMF (n={n}, p={p})\")\n",
    "plt.title(\"Binomial Distribution: Number of Solved Crimes\")\n",
    "plt.xlabel(\"Number of Solved Crimes (k)\")\n",
    "plt.ylabel(\"Probability\")\n",
    "plt.xticks(k_values)\n",
    "plt.legend()\n",
    "plt.grid(True)\n",
    "plt.show()"
   ]
  },
  {
   "cell_type": "markdown",
   "metadata": {
    "id": "p-LOxNmgEkJn"
   },
   "source": [
    " ### Challenge 7: Throwing a dice\n",
    "Using the 1st code in the above experiment (Flipping a coin),  throw a dice with $n=100$ times and report how many times you throw $1, 2, 3, 4, 5,$ and $6$. Use a seed of $33$. Make sure that the reported values add up to $100$. What is the theoritical probability of each event."
   ]
  },
  {
   "cell_type": "code",
   "execution_count": 36,
   "metadata": {
    "id": "UEzBUmM9EkJn"
   },
   "outputs": [
    {
     "name": "stdout",
     "output_type": "stream",
     "text": [
      "Number of times 1 was rolled: 17\n",
      "Number of times 2 was rolled: 17\n",
      "Number of times 3 was rolled: 15\n",
      "Number of times 4 was rolled: 24\n",
      "Number of times 5 was rolled: 19\n",
      "Number of times 6 was rolled: 8\n",
      "\n",
      "The counts add up to 100.\n",
      "\n",
      "Theoretical probability of each outcome: 0.1667\n"
     ]
    }
   ],
   "source": [
    "import numpy as np\n",
    "\n",
    "# Set random seed for reproducibility\n",
    "np.random.seed(33)\n",
    "\n",
    "# Number of trials\n",
    "n = 100\n",
    "\n",
    "# Simulate rolling the die 100 times\n",
    "rolls = np.random.choice([1, 2, 3, 4, 5, 6], size=n)\n",
    "\n",
    "# Count the occurrences of each outcome\n",
    "outcomes, counts = np.unique(rolls, return_counts=True)\n",
    "\n",
    "# Print the results\n",
    "for outcome, count in zip(outcomes, counts):\n",
    "    print(f\"Number of times {outcome} was rolled: {count}\")\n",
    "\n",
    "# Verify that the counts add up to 100\n",
    "assert sum(counts) == n, \"The counts do not add up to 100!\"\n",
    "print(\"\\nThe counts add up to 100.\")\n",
    "\n",
    "# Theoretical probability of each outcome\n",
    "theoretical_prob = 1 / 6\n",
    "\n",
    "# Print the theoretical probability\n",
    "print(f\"\\nTheoretical probability of each outcome: {theoretical_prob:.4f}\")"
   ]
  },
  {
   "cell_type": "markdown",
   "metadata": {
    "id": "KInH4IfVEkJn"
   },
   "source": [
    "Now Using the 2nd code in the Flipping a coin experiment, plot the probability simulation results and compare it with the theoritical probability."
   ]
  },
  {
   "cell_type": "code",
   "execution_count": 48,
   "metadata": {
    "id": "L4gD81IYEkJn"
   },
   "outputs": [
    {
     "data": {
      "image/png": "[encoded data removed]",
      "text/plain": [
       "<Figure size 640x480 with 1 Axes>"
      ]
     },
     "metadata": {},
     "output_type": "display_data"
    }
   ],
   "source": [
    "#Your code here\n",
    "import numpy as np\n",
    "import matplotlib.pyplot as plt\n",
    "\n",
    "# Set the random seed\n",
    "np.random.seed(33)\n",
    "\n",
    "# Simulate throwing a dice 100 times\n",
    "dice_throws = np.random.randint(1, 7, size=100)\n",
    "\n",
    "# Count the number of times each number is thrown\n",
    "num_ones = np.sum(dice_throws == 1)\n",
    "num_twos = np.sum(dice_throws == 2)\n",
    "num_threes = np.sum(dice_throws == 3)\n",
    "num_fours = np.sum(dice_throws == 4)\n",
    "num_fives = np.sum(dice_throws == 5)\n",
    "num_sixes = np.sum(dice_throws == 6)\n",
    "\n",
    "# Compute the theoretical probability of each event\n",
    "theoretical_prob = 1/6\n",
    "\n",
    "# Compute the simulated probability of each event\n",
    "simulated_prob_ones = num_ones / 100\n",
    "simulated_prob_twos = num_twos / 100\n",
    "simulated_prob_threes = num_threes / 100\n",
    "simulated_prob_fours = num_fours / 100\n",
    "simulated_prob_fives = num_fives / 100\n",
    "simulated_prob_sixes = num_sixes / 100\n",
    "\n",
    "# Plot the simulated and theoretical probabilities\n",
    "x = np.arange(1, 7)\n",
    "simulated_probs = [simulated_prob_ones, simulated_prob_twos, simulated_prob_threes, simulated_prob_fours, simulated_prob_fives, simulated_prob_sixes]\n",
    "plt.bar(x, simulated_probs, label='Simulated Probability')\n",
    "plt.axhline(y=theoretical_prob, color='r', linestyle='-', label='Theoretical Probability')\n",
    "plt.xlabel('Dice Number')\n",
    "plt.ylabel('Probability')\n",
    "plt.title('Simulated and Theoretical Probabilities of Dice Throws')\n",
    "plt.legend()\n",
    "plt.show()"
   ]
  },
  {
   "cell_type": "markdown",
   "metadata": {
    "id": "rbN-Gb8bEkJn"
   },
   "source": [
    "### Challenge 8: Drawing balls from a box\n",
    "Suppose there are 12 balls in a box: 4 black, 4 red, and 4 blue. We want to make a program that draws n balls at random from the box. It is natural to represent the collection of balls as a list. Each list element can be an integer 1, 2, or 3, since we have 3 different types of balls, but it would be easier to work with the program if the balls could have a color instead of an integer number. This is easily accomplished by defining color names (See `new_box()` function below). Drawing a ball at random is performed by the `draw_ball()` function. Similarly, drawing n balls can be performed using the `draw_n_balls()` function."
   ]
  },
  {
   "cell_type": "code",
   "execution_count": 39,
   "metadata": {
    "id": "5oktHSVEEkJn"
   },
   "outputs": [],
   "source": [
    "import numpy.random as rnd\n",
    "\n",
    "def new_box():\n",
    "    colors = 'black', 'red', 'blue'   # (tuple of strings)\n",
    "    box = []\n",
    "    for color in colors:\n",
    "        for i in range(4):\n",
    "            box.append(color)\n",
    "    return box\n",
    "\n",
    "def draw_ball(box):\n",
    "    color = rnd.choice(box)\n",
    "    box.remove(color)\n",
    "    return color, box\n",
    "\n",
    "def draw_n_balls(box,n):\n",
    "# Draw n balls from the box\n",
    "    balls = []\n",
    "    for i in range(n):\n",
    "        color, box = draw_ball(box)\n",
    "        balls.append(color)\n",
    "    return balls\n"
   ]
  },
  {
   "cell_type": "markdown",
   "metadata": {
    "id": "V1fvSxEbEkJn"
   },
   "source": [
    "#### Question\n",
    "Now, we ask you to compute the probability of drawing 2 or more black balls from that box via experiemntal simulation. To do so, perform `N` experiments, count how many times `M` you get 2 or more black balls, and estimate the probability as `M/N`. Each experiment consists of making the box list, drawing a number of balls, and counting how many black balls we got. The latter task is easy with the count method in list objects: `box.count('black')` counts how many elements with value 'black' we have in the list box.\n",
    "Given:\n",
    "<ul>\n",
    "  <li>n as how  many balls are to be drawn? </li>\n",
    "  <li>N as how many experiments?</li>\n",
    "</ul>\n",
    " Write a python program using the functions defined just above to compute the required probability.\n",
    " Run your program with n=5 (drawing 5 balls each time) and N=4000 and reports the probability result.\n",
    " Try with other n values and report what differs from the obtained results."
   ]
  },
  {
   "cell_type": "code",
   "execution_count": 47,
   "metadata": {
    "colab": {
     "base_uri": "https://localhost:8080/"
    },
    "id": "RwNf4RAcEkJn",
    "outputId": "951602b3-bf28-497a-bd5f-23ae932aaa0e"
   },
   "outputs": [
    {
     "name": "stdout",
     "output_type": "stream",
     "text": [
      "Probability: 0.10\n"
     ]
    }
   ],
   "source": [
    "\n",
    "n = 2\n",
    "N = 4000\n",
    "\n",
    "# Initialize the success count\n",
    "M = 0\n",
    "\n",
    "# Perform N experiments\n",
    "for _ in range(N):\n",
    "    box = new_box()  # Create a new box for each experiment\n",
    "    drawn_balls = draw_n_balls(box, n)  # Draw n balls\n",
    "    black_count = drawn_balls.count('black')  # Count black balls\n",
    "    if black_count >= 2:\n",
    "        M += 1  # Increment success count if 2 or more black balls are drawn\n",
    "\n",
    "# Compute the probability\n",
    "prob = M / N\n",
    "\n",
    "# Print the result\n",
    "print('Probability:', \"{:.2f}\".format(prob))\n"
   ]
  },
  {
   "cell_type": "markdown",
   "metadata": {
    "id": "9Ha-yzrzEkJn"
   },
   "source": [
    "## Simulating Synthetic Data using Probability Distributions\n",
    "Synthetic data is computer-generated data that is similar to real-world data. The primary purpose of synthetics data is to increase the privacy and integrity of systems. For example, to protect the Personally Identifiable Information (PII) or Personal Health Information (PHI) of the users, companies have to implement data protection strategies. Using synthetic data can help companies test new applications and protect user privacy.\n",
    "\n",
    "For this purpose, We will use the Python Faker library. Faker is an open-source Python package used to simulate a fake dataset for application testing, bootstrapping the database, and maintaining user anonymity.\n",
    "To learn about more advanced functions, check out the Faker documentation (https://faker.readthedocs.io/en/master/fakerclass.html)."
   ]
  },
  {
   "cell_type": "code",
   "execution_count": 40,
   "metadata": {
    "colab": {
     "base_uri": "https://localhost:8080/"
    },
    "id": "MBkAI_ZVEkJn",
    "outputId": "c98723f9-77a8-4cfc-fc30-2f93e478f2af"
   },
   "outputs": [
    {
     "name": "stdout",
     "output_type": "stream",
     "text": [
      "Collecting FakerNote: you may need to restart the kernel to use updated packages.\n",
      "\n",
      "  Downloading Faker-36.1.1-py3-none-any.whl.metadata (15 kB)\n",
      "Requirement already satisfied: tzdata in c:\\users\\hibetelrahmane\\appdata\\local\\programs\\python\\python312\\lib\\site-packages (from Faker) (2024.2)\n",
      "Downloading Faker-36.1.1-py3-none-any.whl (1.9 MB)\n",
      "   ---------------------------------------- 0.0/1.9 MB ? eta -:--:--\n",
      "   ---------------------------------------- 0.0/1.9 MB ? eta -:--:--\n",
      "   ---------------------------------------- 0.0/1.9 MB ? eta -:--:--\n",
      "   ---------------------------------------- 0.0/1.9 MB ? eta -:--:--\n",
      "   ----- ---------------------------------- 0.3/1.9 MB ? eta -:--:--\n",
      "   ----- ---------------------------------- 0.3/1.9 MB ? eta -:--:--\n",
      "   ----- ---------------------------------- 0.3/1.9 MB ? eta -:--:--\n",
      "   ----- ---------------------------------- 0.3/1.9 MB ? eta -:--:--\n",
      "   ----- ---------------------------------- 0.3/1.9 MB ? eta -:--:--\n",
      "   ----- ---------------------------------- 0.3/1.9 MB ? eta -:--:--\n",
      "   ---------- ----------------------------- 0.5/1.9 MB 184.3 kB/s eta 0:00:08\n",
      "   ---------- ----------------------------- 0.5/1.9 MB 184.3 kB/s eta 0:00:08\n",
      "   ---------- ----------------------------- 0.5/1.9 MB 184.3 kB/s eta 0:00:08\n",
      "   ---------- ----------------------------- 0.5/1.9 MB 184.3 kB/s eta 0:00:08\n",
      "   ---------- ----------------------------- 0.5/1.9 MB 184.3 kB/s eta 0:00:08\n",
      "   ---------- ----------------------------- 0.5/1.9 MB 184.3 kB/s eta 0:00:08\n",
      "   ---------- ----------------------------- 0.5/1.9 MB 184.3 kB/s eta 0:00:08\n",
      "   ---------- ----------------------------- 0.5/1.9 MB 184.3 kB/s eta 0:00:08\n",
      "   ---------- ----------------------------- 0.5/1.9 MB 184.3 kB/s eta 0:00:08\n",
      "   ---------- ----------------------------- 0.5/1.9 MB 184.3 kB/s eta 0:00:08\n",
      "   ---------------- ----------------------- 0.8/1.9 MB 153.9 kB/s eta 0:00:08\n",
      "   ---------------- ----------------------- 0.8/1.9 MB 153.9 kB/s eta 0:00:08\n",
      "   ---------------- ----------------------- 0.8/1.9 MB 153.9 kB/s eta 0:00:08\n",
      "   ---------------- ----------------------- 0.8/1.9 MB 153.9 kB/s eta 0:00:08\n",
      "   ---------------- ----------------------- 0.8/1.9 MB 153.9 kB/s eta 0:00:08\n",
      "   ---------------- ----------------------- 0.8/1.9 MB 153.9 kB/s eta 0:00:08\n",
      "   ---------------- ----------------------- 0.8/1.9 MB 153.9 kB/s eta 0:00:08\n",
      "   ---------------- ----------------------- 0.8/1.9 MB 153.9 kB/s eta 0:00:08\n",
      "   --------------------- ------------------ 1.0/1.9 MB 153.0 kB/s eta 0:00:06\n",
      "   --------------------- ------------------ 1.0/1.9 MB 153.0 kB/s eta 0:00:06\n",
      "   --------------------- ------------------ 1.0/1.9 MB 153.0 kB/s eta 0:00:06\n",
      "   --------------------- ------------------ 1.0/1.9 MB 153.0 kB/s eta 0:00:06\n",
      "   --------------------- ------------------ 1.0/1.9 MB 153.0 kB/s eta 0:00:06\n",
      "   --------------------- ------------------ 1.0/1.9 MB 153.0 kB/s eta 0:00:06\n",
      "   --------------------- ------------------ 1.0/1.9 MB 153.0 kB/s eta 0:00:06\n",
      "   --------------------- ------------------ 1.0/1.9 MB 153.0 kB/s eta 0:00:06\n",
      "   --------------------- ------------------ 1.0/1.9 MB 153.0 kB/s eta 0:00:06\n",
      "   --------------------- ------------------ 1.0/1.9 MB 153.0 kB/s eta 0:00:06\n",
      "   --------------------------- ------------ 1.3/1.9 MB 146.8 kB/s eta 0:00:05\n",
      "   --------------------------- ------------ 1.3/1.9 MB 146.8 kB/s eta 0:00:05\n",
      "   --------------------------- ------------ 1.3/1.9 MB 146.8 kB/s eta 0:00:05\n",
      "   --------------------------- ------------ 1.3/1.9 MB 146.8 kB/s eta 0:00:05\n",
      "   --------------------------- ------------ 1.3/1.9 MB 146.8 kB/s eta 0:00:05\n",
      "   --------------------------- ------------ 1.3/1.9 MB 146.8 kB/s eta 0:00:05\n",
      "   --------------------------- ------------ 1.3/1.9 MB 146.8 kB/s eta 0:00:05\n",
      "   --------------------------- ------------ 1.3/1.9 MB 146.8 kB/s eta 0:00:05\n",
      "   -------------------------------- ------- 1.6/1.9 MB 146.6 kB/s eta 0:00:03\n",
      "   -------------------------------- ------- 1.6/1.9 MB 146.6 kB/s eta 0:00:03\n",
      "   -------------------------------- ------- 1.6/1.9 MB 146.6 kB/s eta 0:00:03\n",
      "   -------------------------------- ------- 1.6/1.9 MB 146.6 kB/s eta 0:00:03\n",
      "   -------------------------------- ------- 1.6/1.9 MB 146.6 kB/s eta 0:00:03\n",
      "   -------------------------------- ------- 1.6/1.9 MB 146.6 kB/s eta 0:00:03\n",
      "   -------------------------------- ------- 1.6/1.9 MB 146.6 kB/s eta 0:00:03\n",
      "   -------------------------------- ------- 1.6/1.9 MB 146.6 kB/s eta 0:00:03\n",
      "   -------------------------------------- - 1.8/1.9 MB 148.2 kB/s eta 0:00:01\n",
      "   -------------------------------------- - 1.8/1.9 MB 148.2 kB/s eta 0:00:01\n",
      "   -------------------------------------- - 1.8/1.9 MB 148.2 kB/s eta 0:00:01\n",
      "   ---------------------------------------- 1.9/1.9 MB 149.2 kB/s eta 0:00:00\n",
      "Installing collected packages: Faker\n",
      "Successfully installed Faker-36.1.1\n"
     ]
    },
    {
     "name": "stderr",
     "output_type": "stream",
     "text": [
      "\n",
      "[notice] A new release of pip is available: 24.3.1 -> 25.0.1\n",
      "[notice] To update, run: python.exe -m pip install --upgrade pip\n"
     ]
    }
   ],
   "source": [
    "%pip install Faker"
   ]
  },
  {
   "cell_type": "code",
   "execution_count": 42,
   "metadata": {
    "colab": {
     "base_uri": "https://localhost:8080/"
    },
    "id": "mbvnT51HEkJn",
    "outputId": "cacfb176-e37e-4ed4-d73a-2547da360dc8"
   },
   "outputs": [
    {
     "name": "stdout",
     "output_type": "stream",
     "text": [
      "Note: you may need to restart the kernel to use updated packages.\n",
      "Requirement already satisfied: pandas in c:\\users\\hibetelrahmane\\appdata\\local\\programs\\python\\python312\\lib\\site-packages (2.2.3)\n",
      "Requirement already satisfied: numpy>=1.26.0 in c:\\users\\hibetelrahmane\\appdata\\local\\programs\\python\\python312\\lib\\site-packages (from pandas) (2.0.2)\n",
      "Requirement already satisfied: python-dateutil>=2.8.2 in c:\\users\\hibetelrahmane\\appdata\\local\\programs\\python\\python312\\lib\\site-packages (from pandas) (2.9.0.post0)\n",
      "Requirement already satisfied: pytz>=2020.1 in c:\\users\\hibetelrahmane\\appdata\\local\\programs\\python\\python312\\lib\\site-packages (from pandas) (2024.2)\n",
      "Requirement already satisfied: tzdata>=2022.7 in c:\\users\\hibetelrahmane\\appdata\\local\\programs\\python\\python312\\lib\\site-packages (from pandas) (2024.2)\n",
      "Requirement already satisfied: six>=1.5 in c:\\users\\hibetelrahmane\\appdata\\local\\programs\\python\\python312\\lib\\site-packages (from python-dateutil>=2.8.2->pandas) (1.16.0)\n"
     ]
    },
    {
     "name": "stderr",
     "output_type": "stream",
     "text": [
      "\n",
      "[notice] A new release of pip is available: 24.3.1 -> 25.0.1\n",
      "[notice] To update, run: python.exe -m pip install --upgrade pip\n"
     ]
    }
   ],
   "source": [
    "%pip install pandas"
   ]
  },
  {
   "cell_type": "markdown",
   "metadata": {
    "id": "3h-ZSOYEEkJn"
   },
   "source": [
    "Faker comes with command line support, Pytest fixtures, Localization (support different regions), reproducibility, and dynamic provider (customizing it to your needs).\n",
    "You can also use Faker's basic functionalities to create a quick dataset and customize it to your needs. In the table below, you can check various Faker functions and the purpose.\n",
    "\n",
    "| Faker Function  | Purpose                                       |\n",
    "|-----------------|-----------------------------------------------|\n",
    "| name()          | Generates fake full name                      |\n",
    "| credit_card_full() | Generates credit card number with expiry and CVV |\n",
    "| email()         | Generates fake email address                   |\n",
    "| url()           | Generate fake URL                              |\n",
    "| phone_number()  | Generates fake phone number with country code  |\n",
    "| address()       | Generates fake full address                    |\n",
    "| license_plate() | Generates fake license plate                   |\n",
    "| currency()      | Generate tuple of currency code and full form  |\n",
    "| color_name()    | Generate random color name                     |\n",
    "| local_latlng()  | Generate latitude, longitude, area, country, and states |\n",
    "| domain_name()   | Generate the fake website based on fake person name |\n",
    "| text()          | Generate the fake small text                   |\n",
    "| company()       | Generate fake company name                     |\n",
    "\n",
    "\n",
    "\n",
    "\n"
   ]
  },
  {
   "cell_type": "markdown",
   "metadata": {
    "id": "YNE5BR4XEkJn"
   },
   "source": [
    "### Synthetic Data Simulation Examples\n",
    "In this section, we will use Python Faker to simulate synthetics data. It consists of an example of how you can use `Faker` for various tasks. The main goal is to develop a privacy-centric approach for testing systems.\n",
    "\n",
    "First, we will initiate a fake generator using `Faker()`. By default, it is using the `en_US` locale."
   ]
  },
  {
   "cell_type": "code",
   "execution_count": 43,
   "metadata": {
    "id": "2JuwNuY_EkJn"
   },
   "outputs": [],
   "source": [
    "from faker import Faker\n",
    "fake = Faker()"
   ]
  },
  {
   "cell_type": "markdown",
   "metadata": {
    "id": "ecgZbVOWEkJn"
   },
   "source": [
    "#### Example:\n",
    "In this example, we will create a pandas dataframe that contains fake data.\n",
    "\n",
    "- Create empty pandas dataframe (data)\n",
    "- Pass it through x number of loops to create multiple rows\n",
    "- Use  prebuilt  functions such as `random_int()`, `name()`, `address()`, `latitude()`, and `longitude()`  to generate the columns accordingley.\n",
    "- Use `uniform()` prebult random function to generate the `Weight` feature.\n",
    "- Run the `input_data()` function with n_rows=50"
   ]
  },
  {
   "cell_type": "code",
   "execution_count": 44,
   "metadata": {
    "colab": {
     "base_uri": "https://localhost:8080/",
     "height": 1000
    },
    "id": "nVYrwm2SEkJn",
    "outputId": "7909945f-69cb-4daf-88c0-8610564a50f3"
   },
   "outputs": [
    {
     "data": {
      "text/html": [
       "<div>\n",
       "<style scoped>\n",
       "    .dataframe tbody tr th:only-of-type {\n",
       "        vertical-align: middle;\n",
       "    }\n",
       "\n",
       "    .dataframe tbody tr th {\n",
       "        vertical-align: top;\n",
       "    }\n",
       "\n",
       "    .dataframe thead th {\n",
       "        text-align: right;\n",
       "    }\n",
       "</style>\n",
       "<table border=\"1\" class=\"dataframe\">\n",
       "  <thead>\n",
       "    <tr style=\"text-align: right;\">\n",
       "      <th></th>\n",
       "      <th>name</th>\n",
       "      <th>age</th>\n",
       "      <th>Weight</th>\n",
       "      <th>address</th>\n",
       "      <th>latitude</th>\n",
       "      <th>longitude</th>\n",
       "    </tr>\n",
       "  </thead>\n",
       "  <tbody>\n",
       "    <tr>\n",
       "      <th>0</th>\n",
       "      <td>Charles Valencia</td>\n",
       "      <td>80.0</td>\n",
       "      <td>66.730132</td>\n",
       "      <td>74879 Elizabeth Summit\\nNew Jenniferside, FM 3...</td>\n",
       "      <td>-82.1299305</td>\n",
       "      <td>103.676704</td>\n",
       "    </tr>\n",
       "    <tr>\n",
       "      <th>1</th>\n",
       "      <td>Anthony Caldwell</td>\n",
       "      <td>55.0</td>\n",
       "      <td>65.341510</td>\n",
       "      <td>17985 Smith Crossroad Apt. 442\\nJenniferbury, ...</td>\n",
       "      <td>-27.8391085</td>\n",
       "      <td>-167.273035</td>\n",
       "    </tr>\n",
       "    <tr>\n",
       "      <th>2</th>\n",
       "      <td>Mr. Joseph Mack DVM</td>\n",
       "      <td>94.0</td>\n",
       "      <td>98.713893</td>\n",
       "      <td>49800 Johnson Bypass\\nLynntown, DC 56823</td>\n",
       "      <td>-65.0826405</td>\n",
       "      <td>161.666997</td>\n",
       "    </tr>\n",
       "    <tr>\n",
       "      <th>3</th>\n",
       "      <td>Mark Hardy</td>\n",
       "      <td>59.0</td>\n",
       "      <td>97.204950</td>\n",
       "      <td>5182 James Forest\\nStevenfort, MH 97895</td>\n",
       "      <td>84.247819</td>\n",
       "      <td>-127.000647</td>\n",
       "    </tr>\n",
       "    <tr>\n",
       "      <th>4</th>\n",
       "      <td>Zoe Lynn</td>\n",
       "      <td>61.0</td>\n",
       "      <td>88.114966</td>\n",
       "      <td>5667 Fields Brooks Apt. 916\\nLake Marvinhaven,...</td>\n",
       "      <td>-50.6507015</td>\n",
       "      <td>29.053077</td>\n",
       "    </tr>\n",
       "    <tr>\n",
       "      <th>5</th>\n",
       "      <td>Courtney Brandt</td>\n",
       "      <td>27.0</td>\n",
       "      <td>85.946526</td>\n",
       "      <td>3850 Brown Mall\\nNorth Kristen, ND 38289</td>\n",
       "      <td>-49.420599</td>\n",
       "      <td>76.982223</td>\n",
       "    </tr>\n",
       "    <tr>\n",
       "      <th>6</th>\n",
       "      <td>Alex Martin</td>\n",
       "      <td>76.0</td>\n",
       "      <td>65.211879</td>\n",
       "      <td>64572 Mathews Manors Suite 138\\nCarlsonshire, ...</td>\n",
       "      <td>-24.429702</td>\n",
       "      <td>87.791576</td>\n",
       "    </tr>\n",
       "    <tr>\n",
       "      <th>7</th>\n",
       "      <td>Tracy Harvey</td>\n",
       "      <td>27.0</td>\n",
       "      <td>66.141002</td>\n",
       "      <td>98059 Laurie Cliff Suite 302\\nHuangborough, NM...</td>\n",
       "      <td>-58.1440805</td>\n",
       "      <td>5.030185</td>\n",
       "    </tr>\n",
       "    <tr>\n",
       "      <th>8</th>\n",
       "      <td>John Jefferson</td>\n",
       "      <td>82.0</td>\n",
       "      <td>63.138089</td>\n",
       "      <td>466 Ramos Park\\nPort Faith, MS 07764</td>\n",
       "      <td>-68.721555</td>\n",
       "      <td>135.015818</td>\n",
       "    </tr>\n",
       "    <tr>\n",
       "      <th>9</th>\n",
       "      <td>Derrick Wheeler</td>\n",
       "      <td>51.0</td>\n",
       "      <td>88.958863</td>\n",
       "      <td>2084 Deborah Spring\\nNicoletown, AZ 31926</td>\n",
       "      <td>42.8415955</td>\n",
       "      <td>-78.348169</td>\n",
       "    </tr>\n",
       "    <tr>\n",
       "      <th>10</th>\n",
       "      <td>Harold Jones PhD</td>\n",
       "      <td>50.0</td>\n",
       "      <td>68.799260</td>\n",
       "      <td>746 Thompson River\\nSmithborough, ME 19203</td>\n",
       "      <td>66.7920655</td>\n",
       "      <td>116.500698</td>\n",
       "    </tr>\n",
       "    <tr>\n",
       "      <th>11</th>\n",
       "      <td>Jennifer Lutz</td>\n",
       "      <td>74.0</td>\n",
       "      <td>84.503486</td>\n",
       "      <td>57504 Jonathan Corner\\nEast Davidmouth, TX 56460</td>\n",
       "      <td>-49.060638</td>\n",
       "      <td>18.744791</td>\n",
       "    </tr>\n",
       "    <tr>\n",
       "      <th>12</th>\n",
       "      <td>James Johnson</td>\n",
       "      <td>82.0</td>\n",
       "      <td>95.388618</td>\n",
       "      <td>13308 Avery Stream Suite 391\\nPort Gerald, NE ...</td>\n",
       "      <td>50.990917</td>\n",
       "      <td>39.805864</td>\n",
       "    </tr>\n",
       "    <tr>\n",
       "      <th>13</th>\n",
       "      <td>Dale Wilson</td>\n",
       "      <td>48.0</td>\n",
       "      <td>70.458603</td>\n",
       "      <td>8739 Raven Cliffs Apt. 482\\nTurnerland, DC 89291</td>\n",
       "      <td>19.839681</td>\n",
       "      <td>4.309178</td>\n",
       "    </tr>\n",
       "    <tr>\n",
       "      <th>14</th>\n",
       "      <td>April Finley</td>\n",
       "      <td>71.0</td>\n",
       "      <td>67.302068</td>\n",
       "      <td>4450 Timothy Groves\\nSouth Hannahport, KY 48465</td>\n",
       "      <td>-57.4130025</td>\n",
       "      <td>74.887259</td>\n",
       "    </tr>\n",
       "    <tr>\n",
       "      <th>15</th>\n",
       "      <td>Michael Green</td>\n",
       "      <td>90.0</td>\n",
       "      <td>80.988712</td>\n",
       "      <td>53420 Ruiz Fall\\nLake Scottberg, NV 35046</td>\n",
       "      <td>-88.8463335</td>\n",
       "      <td>146.245565</td>\n",
       "    </tr>\n",
       "    <tr>\n",
       "      <th>16</th>\n",
       "      <td>Stacy Aguilar</td>\n",
       "      <td>32.0</td>\n",
       "      <td>77.756115</td>\n",
       "      <td>PSC 3063, Box 5001\\nAPO AE 77442</td>\n",
       "      <td>38.520605</td>\n",
       "      <td>109.122632</td>\n",
       "    </tr>\n",
       "    <tr>\n",
       "      <th>17</th>\n",
       "      <td>Dr. Dennis Bailey</td>\n",
       "      <td>73.0</td>\n",
       "      <td>87.187542</td>\n",
       "      <td>845 Campbell Island Suite 473\\nEast Noah, VT 8...</td>\n",
       "      <td>-89.6079665</td>\n",
       "      <td>-96.034699</td>\n",
       "    </tr>\n",
       "    <tr>\n",
       "      <th>18</th>\n",
       "      <td>Stephanie Thornton</td>\n",
       "      <td>67.0</td>\n",
       "      <td>78.517900</td>\n",
       "      <td>14759 Casey Avenue Apt. 717\\nNew Jaredton, KS ...</td>\n",
       "      <td>55.9143305</td>\n",
       "      <td>163.661817</td>\n",
       "    </tr>\n",
       "    <tr>\n",
       "      <th>19</th>\n",
       "      <td>Lynn King</td>\n",
       "      <td>24.0</td>\n",
       "      <td>66.826544</td>\n",
       "      <td>66791 Tanner Forest Suite 995\\nLake Scott, CA ...</td>\n",
       "      <td>72.676900</td>\n",
       "      <td>-12.626799</td>\n",
       "    </tr>\n",
       "    <tr>\n",
       "      <th>20</th>\n",
       "      <td>William Mendoza</td>\n",
       "      <td>38.0</td>\n",
       "      <td>74.263279</td>\n",
       "      <td>PSC 3938, Box 0927\\nAPO AE 82662</td>\n",
       "      <td>-21.234333</td>\n",
       "      <td>84.359848</td>\n",
       "    </tr>\n",
       "    <tr>\n",
       "      <th>21</th>\n",
       "      <td>Daniel Williams</td>\n",
       "      <td>71.0</td>\n",
       "      <td>93.044256</td>\n",
       "      <td>7902 Fernandez Drive\\nMorrisshire, OH 29109</td>\n",
       "      <td>4.6806895</td>\n",
       "      <td>18.917951</td>\n",
       "    </tr>\n",
       "    <tr>\n",
       "      <th>22</th>\n",
       "      <td>Lauren Buck</td>\n",
       "      <td>38.0</td>\n",
       "      <td>93.048733</td>\n",
       "      <td>7644 Grace Fork Suite 110\\nNew Barbaratown, HI...</td>\n",
       "      <td>53.671548</td>\n",
       "      <td>167.480649</td>\n",
       "    </tr>\n",
       "    <tr>\n",
       "      <th>23</th>\n",
       "      <td>Christopher Alvarez</td>\n",
       "      <td>53.0</td>\n",
       "      <td>89.723745</td>\n",
       "      <td>PSC 8676, Box 7009\\nAPO AA 73040</td>\n",
       "      <td>-12.9925595</td>\n",
       "      <td>-152.382678</td>\n",
       "    </tr>\n",
       "    <tr>\n",
       "      <th>24</th>\n",
       "      <td>Deborah House DVM</td>\n",
       "      <td>46.0</td>\n",
       "      <td>85.957106</td>\n",
       "      <td>76816 Michael Courts\\nAcevedobury, WV 06848</td>\n",
       "      <td>87.2156915</td>\n",
       "      <td>92.792099</td>\n",
       "    </tr>\n",
       "    <tr>\n",
       "      <th>25</th>\n",
       "      <td>Daniel Maxwell</td>\n",
       "      <td>42.0</td>\n",
       "      <td>79.419384</td>\n",
       "      <td>222 Collins Squares\\nEast Amymouth, OK 22007</td>\n",
       "      <td>20.334521</td>\n",
       "      <td>-79.286172</td>\n",
       "    </tr>\n",
       "    <tr>\n",
       "      <th>26</th>\n",
       "      <td>Samuel Berger</td>\n",
       "      <td>40.0</td>\n",
       "      <td>65.507130</td>\n",
       "      <td>73790 Gilmore Pass Apt. 085\\nNew Danielle, WY ...</td>\n",
       "      <td>-55.5839545</td>\n",
       "      <td>-23.614296</td>\n",
       "    </tr>\n",
       "    <tr>\n",
       "      <th>27</th>\n",
       "      <td>Anthony Steele</td>\n",
       "      <td>26.0</td>\n",
       "      <td>75.414760</td>\n",
       "      <td>5574 Andrea Prairie Apt. 849\\nBrandontown, IL ...</td>\n",
       "      <td>78.0355775</td>\n",
       "      <td>58.030300</td>\n",
       "    </tr>\n",
       "    <tr>\n",
       "      <th>28</th>\n",
       "      <td>Jennifer Shaffer</td>\n",
       "      <td>70.0</td>\n",
       "      <td>61.758547</td>\n",
       "      <td>829 Martin Estate Suite 310\\nCranechester, IA ...</td>\n",
       "      <td>2.8050055</td>\n",
       "      <td>-128.867519</td>\n",
       "    </tr>\n",
       "    <tr>\n",
       "      <th>29</th>\n",
       "      <td>Katherine Wyatt</td>\n",
       "      <td>72.0</td>\n",
       "      <td>76.809396</td>\n",
       "      <td>115 Acevedo Drives\\nPort Adamton, ME 21176</td>\n",
       "      <td>-26.986693</td>\n",
       "      <td>-171.028613</td>\n",
       "    </tr>\n",
       "    <tr>\n",
       "      <th>30</th>\n",
       "      <td>Daniel Werner</td>\n",
       "      <td>63.0</td>\n",
       "      <td>71.595467</td>\n",
       "      <td>5267 Danielle Hills Suite 154\\nThomaston, AZ 0...</td>\n",
       "      <td>40.554543</td>\n",
       "      <td>113.207751</td>\n",
       "    </tr>\n",
       "    <tr>\n",
       "      <th>31</th>\n",
       "      <td>Kevin Erickson</td>\n",
       "      <td>42.0</td>\n",
       "      <td>69.420117</td>\n",
       "      <td>38874 Brooks Expressway\\nParkerfort, CO 53367</td>\n",
       "      <td>63.7682985</td>\n",
       "      <td>-117.011073</td>\n",
       "    </tr>\n",
       "    <tr>\n",
       "      <th>32</th>\n",
       "      <td>Hunter Pierce</td>\n",
       "      <td>99.0</td>\n",
       "      <td>76.961074</td>\n",
       "      <td>45009 Megan Trafficway\\nHarrellmouth, DC 13797</td>\n",
       "      <td>69.0708715</td>\n",
       "      <td>48.007792</td>\n",
       "    </tr>\n",
       "    <tr>\n",
       "      <th>33</th>\n",
       "      <td>Victoria Porter</td>\n",
       "      <td>38.0</td>\n",
       "      <td>84.004080</td>\n",
       "      <td>96410 Wall Villages\\nNew Alyssa, MT 46017</td>\n",
       "      <td>-62.5414415</td>\n",
       "      <td>173.285879</td>\n",
       "    </tr>\n",
       "    <tr>\n",
       "      <th>34</th>\n",
       "      <td>Tonya Avila</td>\n",
       "      <td>82.0</td>\n",
       "      <td>86.370852</td>\n",
       "      <td>0687 Jeffrey Square Suite 064\\nNorth Stephanie...</td>\n",
       "      <td>-8.1772655</td>\n",
       "      <td>25.421118</td>\n",
       "    </tr>\n",
       "    <tr>\n",
       "      <th>35</th>\n",
       "      <td>Kristina Hampton</td>\n",
       "      <td>62.0</td>\n",
       "      <td>81.877057</td>\n",
       "      <td>PSC 8984, Box 2695\\nAPO AA 26146</td>\n",
       "      <td>-80.7545425</td>\n",
       "      <td>-162.137470</td>\n",
       "    </tr>\n",
       "    <tr>\n",
       "      <th>36</th>\n",
       "      <td>John Sandoval</td>\n",
       "      <td>87.0</td>\n",
       "      <td>93.161868</td>\n",
       "      <td>66288 Laura Mountains Apt. 852\\nNew Sharon, RI...</td>\n",
       "      <td>-21.284324</td>\n",
       "      <td>151.299014</td>\n",
       "    </tr>\n",
       "    <tr>\n",
       "      <th>37</th>\n",
       "      <td>Richard Davila</td>\n",
       "      <td>44.0</td>\n",
       "      <td>63.140976</td>\n",
       "      <td>PSC 5306, Box 1781\\nAPO AE 33805</td>\n",
       "      <td>-86.7931485</td>\n",
       "      <td>106.216723</td>\n",
       "    </tr>\n",
       "    <tr>\n",
       "      <th>38</th>\n",
       "      <td>Kevin Hall</td>\n",
       "      <td>35.0</td>\n",
       "      <td>68.181855</td>\n",
       "      <td>334 Johnson Shores Suite 740\\nJasonview, GA 53125</td>\n",
       "      <td>-15.1625135</td>\n",
       "      <td>8.575609</td>\n",
       "    </tr>\n",
       "    <tr>\n",
       "      <th>39</th>\n",
       "      <td>Manuel Hanson</td>\n",
       "      <td>25.0</td>\n",
       "      <td>95.456981</td>\n",
       "      <td>3934 Anna Springs Apt. 956\\nMatthewside, ME 07383</td>\n",
       "      <td>37.243187</td>\n",
       "      <td>84.703727</td>\n",
       "    </tr>\n",
       "    <tr>\n",
       "      <th>40</th>\n",
       "      <td>Amanda Lopez</td>\n",
       "      <td>57.0</td>\n",
       "      <td>78.979106</td>\n",
       "      <td>71286 Anna Via\\nJessicabury, OR 20828</td>\n",
       "      <td>74.704165</td>\n",
       "      <td>8.170657</td>\n",
       "    </tr>\n",
       "    <tr>\n",
       "      <th>41</th>\n",
       "      <td>Sydney Williams</td>\n",
       "      <td>31.0</td>\n",
       "      <td>98.354288</td>\n",
       "      <td>6624 Tucker Manor Suite 047\\nGrimesstad, MD 21148</td>\n",
       "      <td>8.9992315</td>\n",
       "      <td>97.870464</td>\n",
       "    </tr>\n",
       "    <tr>\n",
       "      <th>42</th>\n",
       "      <td>Lisa Proctor</td>\n",
       "      <td>30.0</td>\n",
       "      <td>82.621883</td>\n",
       "      <td>844 Roberts Circles\\nNorth Tina, NV 79772</td>\n",
       "      <td>63.6553335</td>\n",
       "      <td>108.652131</td>\n",
       "    </tr>\n",
       "    <tr>\n",
       "      <th>43</th>\n",
       "      <td>Jason Frank</td>\n",
       "      <td>50.0</td>\n",
       "      <td>94.848897</td>\n",
       "      <td>5890 Arnold Highway Suite 854\\nNew Aaron, RI 6...</td>\n",
       "      <td>-37.5673185</td>\n",
       "      <td>-177.376158</td>\n",
       "    </tr>\n",
       "    <tr>\n",
       "      <th>44</th>\n",
       "      <td>John Dunn</td>\n",
       "      <td>94.0</td>\n",
       "      <td>86.669263</td>\n",
       "      <td>9631 Fernandez Prairie Apt. 988\\nEast William,...</td>\n",
       "      <td>-28.898560</td>\n",
       "      <td>-88.730361</td>\n",
       "    </tr>\n",
       "    <tr>\n",
       "      <th>45</th>\n",
       "      <td>Emma Williams</td>\n",
       "      <td>80.0</td>\n",
       "      <td>80.849573</td>\n",
       "      <td>03626 Kimberly Divide\\nMichelleton, NC 34078</td>\n",
       "      <td>21.1483655</td>\n",
       "      <td>27.841995</td>\n",
       "    </tr>\n",
       "    <tr>\n",
       "      <th>46</th>\n",
       "      <td>Debra Garcia</td>\n",
       "      <td>58.0</td>\n",
       "      <td>78.841797</td>\n",
       "      <td>94676 Lowery Square Suite 838\\nJenkinsville, G...</td>\n",
       "      <td>-10.170862</td>\n",
       "      <td>39.835065</td>\n",
       "    </tr>\n",
       "    <tr>\n",
       "      <th>47</th>\n",
       "      <td>Terry Mendez</td>\n",
       "      <td>64.0</td>\n",
       "      <td>71.086375</td>\n",
       "      <td>323 Meyer Ports\\nEast Patriciaborough, OR 87514</td>\n",
       "      <td>-63.936489</td>\n",
       "      <td>70.070009</td>\n",
       "    </tr>\n",
       "    <tr>\n",
       "      <th>48</th>\n",
       "      <td>Eric Thomas</td>\n",
       "      <td>93.0</td>\n",
       "      <td>65.877971</td>\n",
       "      <td>151 Lindsey Haven Apt. 779\\nNorth Timothyfort,...</td>\n",
       "      <td>-76.914236</td>\n",
       "      <td>80.276361</td>\n",
       "    </tr>\n",
       "    <tr>\n",
       "      <th>49</th>\n",
       "      <td>Megan Kerr</td>\n",
       "      <td>80.0</td>\n",
       "      <td>86.893999</td>\n",
       "      <td>143 Leah Corners\\nNorth Howard, RI 87938</td>\n",
       "      <td>2.1500685</td>\n",
       "      <td>-133.533773</td>\n",
       "    </tr>\n",
       "  </tbody>\n",
       "</table>\n",
       "</div>"
      ],
      "text/plain": [
       "                   name   age     Weight  \\\n",
       "0      Charles Valencia  80.0  66.730132   \n",
       "1      Anthony Caldwell  55.0  65.341510   \n",
       "2   Mr. Joseph Mack DVM  94.0  98.713893   \n",
       "3            Mark Hardy  59.0  97.204950   \n",
       "4              Zoe Lynn  61.0  88.114966   \n",
       "5       Courtney Brandt  27.0  85.946526   \n",
       "6           Alex Martin  76.0  65.211879   \n",
       "7          Tracy Harvey  27.0  66.141002   \n",
       "8        John Jefferson  82.0  63.138089   \n",
       "9       Derrick Wheeler  51.0  88.958863   \n",
       "10     Harold Jones PhD  50.0  68.799260   \n",
       "11        Jennifer Lutz  74.0  84.503486   \n",
       "12        James Johnson  82.0  95.388618   \n",
       "13          Dale Wilson  48.0  70.458603   \n",
       "14         April Finley  71.0  67.302068   \n",
       "15        Michael Green  90.0  80.988712   \n",
       "16        Stacy Aguilar  32.0  77.756115   \n",
       "17    Dr. Dennis Bailey  73.0  87.187542   \n",
       "18   Stephanie Thornton  67.0  78.517900   \n",
       "19            Lynn King  24.0  66.826544   \n",
       "20      William Mendoza  38.0  74.263279   \n",
       "21      Daniel Williams  71.0  93.044256   \n",
       "22          Lauren Buck  38.0  93.048733   \n",
       "23  Christopher Alvarez  53.0  89.723745   \n",
       "24    Deborah House DVM  46.0  85.957106   \n",
       "25       Daniel Maxwell  42.0  79.419384   \n",
       "26        Samuel Berger  40.0  65.507130   \n",
       "27       Anthony Steele  26.0  75.414760   \n",
       "28     Jennifer Shaffer  70.0  61.758547   \n",
       "29      Katherine Wyatt  72.0  76.809396   \n",
       "30        Daniel Werner  63.0  71.595467   \n",
       "31       Kevin Erickson  42.0  69.420117   \n",
       "32        Hunter Pierce  99.0  76.961074   \n",
       "33      Victoria Porter  38.0  84.004080   \n",
       "34          Tonya Avila  82.0  86.370852   \n",
       "35     Kristina Hampton  62.0  81.877057   \n",
       "36        John Sandoval  87.0  93.161868   \n",
       "37       Richard Davila  44.0  63.140976   \n",
       "38           Kevin Hall  35.0  68.181855   \n",
       "39        Manuel Hanson  25.0  95.456981   \n",
       "40         Amanda Lopez  57.0  78.979106   \n",
       "41      Sydney Williams  31.0  98.354288   \n",
       "42         Lisa Proctor  30.0  82.621883   \n",
       "43          Jason Frank  50.0  94.848897   \n",
       "44            John Dunn  94.0  86.669263   \n",
       "45        Emma Williams  80.0  80.849573   \n",
       "46         Debra Garcia  58.0  78.841797   \n",
       "47         Terry Mendez  64.0  71.086375   \n",
       "48          Eric Thomas  93.0  65.877971   \n",
       "49           Megan Kerr  80.0  86.893999   \n",
       "\n",
       "                                              address     latitude  \\\n",
       "0   74879 Elizabeth Summit\\nNew Jenniferside, FM 3...  -82.1299305   \n",
       "1   17985 Smith Crossroad Apt. 442\\nJenniferbury, ...  -27.8391085   \n",
       "2            49800 Johnson Bypass\\nLynntown, DC 56823  -65.0826405   \n",
       "3             5182 James Forest\\nStevenfort, MH 97895    84.247819   \n",
       "4   5667 Fields Brooks Apt. 916\\nLake Marvinhaven,...  -50.6507015   \n",
       "5            3850 Brown Mall\\nNorth Kristen, ND 38289   -49.420599   \n",
       "6   64572 Mathews Manors Suite 138\\nCarlsonshire, ...   -24.429702   \n",
       "7   98059 Laurie Cliff Suite 302\\nHuangborough, NM...  -58.1440805   \n",
       "8                466 Ramos Park\\nPort Faith, MS 07764   -68.721555   \n",
       "9           2084 Deborah Spring\\nNicoletown, AZ 31926   42.8415955   \n",
       "10         746 Thompson River\\nSmithborough, ME 19203   66.7920655   \n",
       "11   57504 Jonathan Corner\\nEast Davidmouth, TX 56460   -49.060638   \n",
       "12  13308 Avery Stream Suite 391\\nPort Gerald, NE ...    50.990917   \n",
       "13   8739 Raven Cliffs Apt. 482\\nTurnerland, DC 89291    19.839681   \n",
       "14    4450 Timothy Groves\\nSouth Hannahport, KY 48465  -57.4130025   \n",
       "15          53420 Ruiz Fall\\nLake Scottberg, NV 35046  -88.8463335   \n",
       "16                   PSC 3063, Box 5001\\nAPO AE 77442    38.520605   \n",
       "17  845 Campbell Island Suite 473\\nEast Noah, VT 8...  -89.6079665   \n",
       "18  14759 Casey Avenue Apt. 717\\nNew Jaredton, KS ...   55.9143305   \n",
       "19  66791 Tanner Forest Suite 995\\nLake Scott, CA ...    72.676900   \n",
       "20                   PSC 3938, Box 0927\\nAPO AE 82662   -21.234333   \n",
       "21        7902 Fernandez Drive\\nMorrisshire, OH 29109    4.6806895   \n",
       "22  7644 Grace Fork Suite 110\\nNew Barbaratown, HI...    53.671548   \n",
       "23                   PSC 8676, Box 7009\\nAPO AA 73040  -12.9925595   \n",
       "24        76816 Michael Courts\\nAcevedobury, WV 06848   87.2156915   \n",
       "25       222 Collins Squares\\nEast Amymouth, OK 22007    20.334521   \n",
       "26  73790 Gilmore Pass Apt. 085\\nNew Danielle, WY ...  -55.5839545   \n",
       "27  5574 Andrea Prairie Apt. 849\\nBrandontown, IL ...   78.0355775   \n",
       "28  829 Martin Estate Suite 310\\nCranechester, IA ...    2.8050055   \n",
       "29         115 Acevedo Drives\\nPort Adamton, ME 21176   -26.986693   \n",
       "30  5267 Danielle Hills Suite 154\\nThomaston, AZ 0...    40.554543   \n",
       "31      38874 Brooks Expressway\\nParkerfort, CO 53367   63.7682985   \n",
       "32     45009 Megan Trafficway\\nHarrellmouth, DC 13797   69.0708715   \n",
       "33          96410 Wall Villages\\nNew Alyssa, MT 46017  -62.5414415   \n",
       "34  0687 Jeffrey Square Suite 064\\nNorth Stephanie...   -8.1772655   \n",
       "35                   PSC 8984, Box 2695\\nAPO AA 26146  -80.7545425   \n",
       "36  66288 Laura Mountains Apt. 852\\nNew Sharon, RI...   -21.284324   \n",
       "37                   PSC 5306, Box 1781\\nAPO AE 33805  -86.7931485   \n",
       "38  334 Johnson Shores Suite 740\\nJasonview, GA 53125  -15.1625135   \n",
       "39  3934 Anna Springs Apt. 956\\nMatthewside, ME 07383    37.243187   \n",
       "40              71286 Anna Via\\nJessicabury, OR 20828    74.704165   \n",
       "41  6624 Tucker Manor Suite 047\\nGrimesstad, MD 21148    8.9992315   \n",
       "42          844 Roberts Circles\\nNorth Tina, NV 79772   63.6553335   \n",
       "43  5890 Arnold Highway Suite 854\\nNew Aaron, RI 6...  -37.5673185   \n",
       "44  9631 Fernandez Prairie Apt. 988\\nEast William,...   -28.898560   \n",
       "45       03626 Kimberly Divide\\nMichelleton, NC 34078   21.1483655   \n",
       "46  94676 Lowery Square Suite 838\\nJenkinsville, G...   -10.170862   \n",
       "47    323 Meyer Ports\\nEast Patriciaborough, OR 87514   -63.936489   \n",
       "48  151 Lindsey Haven Apt. 779\\nNorth Timothyfort,...   -76.914236   \n",
       "49           143 Leah Corners\\nNorth Howard, RI 87938    2.1500685   \n",
       "\n",
       "      longitude  \n",
       "0    103.676704  \n",
       "1   -167.273035  \n",
       "2    161.666997  \n",
       "3   -127.000647  \n",
       "4     29.053077  \n",
       "5     76.982223  \n",
       "6     87.791576  \n",
       "7      5.030185  \n",
       "8    135.015818  \n",
       "9    -78.348169  \n",
       "10   116.500698  \n",
       "11    18.744791  \n",
       "12    39.805864  \n",
       "13     4.309178  \n",
       "14    74.887259  \n",
       "15   146.245565  \n",
       "16   109.122632  \n",
       "17   -96.034699  \n",
       "18   163.661817  \n",
       "19   -12.626799  \n",
       "20    84.359848  \n",
       "21    18.917951  \n",
       "22   167.480649  \n",
       "23  -152.382678  \n",
       "24    92.792099  \n",
       "25   -79.286172  \n",
       "26   -23.614296  \n",
       "27    58.030300  \n",
       "28  -128.867519  \n",
       "29  -171.028613  \n",
       "30   113.207751  \n",
       "31  -117.011073  \n",
       "32    48.007792  \n",
       "33   173.285879  \n",
       "34    25.421118  \n",
       "35  -162.137470  \n",
       "36   151.299014  \n",
       "37   106.216723  \n",
       "38     8.575609  \n",
       "39    84.703727  \n",
       "40     8.170657  \n",
       "41    97.870464  \n",
       "42   108.652131  \n",
       "43  -177.376158  \n",
       "44   -88.730361  \n",
       "45    27.841995  \n",
       "46    39.835065  \n",
       "47    70.070009  \n",
       "48    80.276361  \n",
       "49  -133.533773  "
      ]
     },
     "execution_count": 44,
     "metadata": {},
     "output_type": "execute_result"
    }
   ],
   "source": [
    "from random import randint\n",
    "import pandas as pd\n",
    "import random\n",
    "\n",
    "fake = Faker()\n",
    "\n",
    "def input_data(n_rows):\n",
    "\n",
    "    # pandas dataframe\n",
    "    data = pd.DataFrame()\n",
    "    for i in range(0, n_rows):\n",
    "        data.loc[i,'name']= fake.name()\n",
    "        data.loc[i,'age']= fake.random_int(18, 100)\n",
    "        data.loc[i,'Weight']= random.uniform(60, 100)\n",
    "        data.loc[i,'address']= fake.address()\n",
    "        data.loc[i,'latitude']= str(fake.latitude())\n",
    "        data.loc[i,'longitude']= str(fake.longitude())\n",
    "    return data\n",
    "\n",
    "\n",
    "input_data(50)"
   ]
  },
  {
   "cell_type": "markdown",
   "metadata": {
    "id": "G8wFFbqDEkJn"
   },
   "source": [
    "### Challenge 9:\n",
    "Update the  example above so that you:\n",
    "- Generate a `height` feature following a gaussian distribution of with mu=180 cm and a std_deviation=15.5 cm.\n",
    "- Generate a `bmi` feature where bmi = Weight / (height (in meter) **2)."
   ]
  },
  {
   "cell_type": "code",
   "execution_count": 46,
   "metadata": {
    "id": "jWlh8FjvEkJn"
   },
   "outputs": [
    {
     "data": {
      "text/html": [
       "<div>\n",
       "<style scoped>\n",
       "    .dataframe tbody tr th:only-of-type {\n",
       "        vertical-align: middle;\n",
       "    }\n",
       "\n",
       "    .dataframe tbody tr th {\n",
       "        vertical-align: top;\n",
       "    }\n",
       "\n",
       "    .dataframe thead th {\n",
       "        text-align: right;\n",
       "    }\n",
       "</style>\n",
       "<table border=\"1\" class=\"dataframe\">\n",
       "  <thead>\n",
       "    <tr style=\"text-align: right;\">\n",
       "      <th></th>\n",
       "      <th>name</th>\n",
       "      <th>age</th>\n",
       "      <th>Weight</th>\n",
       "      <th>height</th>\n",
       "      <th>address</th>\n",
       "      <th>latitude</th>\n",
       "      <th>longitude</th>\n",
       "      <th>bmi</th>\n",
       "    </tr>\n",
       "  </thead>\n",
       "  <tbody>\n",
       "    <tr>\n",
       "      <th>0</th>\n",
       "      <td>Matthew Sharp</td>\n",
       "      <td>65.0</td>\n",
       "      <td>73.449209</td>\n",
       "      <td>180.106724</td>\n",
       "      <td>430 Johnson Ferry\\nEast Natalieberg, ND 42350</td>\n",
       "      <td>-49.626543</td>\n",
       "      <td>114.513051</td>\n",
       "      <td>22.642651</td>\n",
       "    </tr>\n",
       "    <tr>\n",
       "      <th>1</th>\n",
       "      <td>Lisa Santos</td>\n",
       "      <td>77.0</td>\n",
       "      <td>77.631623</td>\n",
       "      <td>185.100037</td>\n",
       "      <td>569 Hall Via Suite 557\\nHaleborough, CO 10449</td>\n",
       "      <td>-60.476220</td>\n",
       "      <td>-111.592557</td>\n",
       "      <td>22.658213</td>\n",
       "    </tr>\n",
       "    <tr>\n",
       "      <th>2</th>\n",
       "      <td>Patrick Rodriguez</td>\n",
       "      <td>37.0</td>\n",
       "      <td>61.870209</td>\n",
       "      <td>170.895671</td>\n",
       "      <td>008 Bird Brooks\\nSouth Katherinestad, PW 42643</td>\n",
       "      <td>-33.886228</td>\n",
       "      <td>92.204212</td>\n",
       "      <td>21.184561</td>\n",
       "    </tr>\n",
       "    <tr>\n",
       "      <th>3</th>\n",
       "      <td>Robert Mejia</td>\n",
       "      <td>38.0</td>\n",
       "      <td>80.191661</td>\n",
       "      <td>207.149363</td>\n",
       "      <td>474 Johnson River Apt. 510\\nPeckchester, WA 59915</td>\n",
       "      <td>-78.0962875</td>\n",
       "      <td>46.591535</td>\n",
       "      <td>18.687965</td>\n",
       "    </tr>\n",
       "    <tr>\n",
       "      <th>4</th>\n",
       "      <td>Jeremiah Moore</td>\n",
       "      <td>33.0</td>\n",
       "      <td>88.359256</td>\n",
       "      <td>184.778240</td>\n",
       "      <td>7830 Shelby Stravenue Apt. 293\\nSouth Erica, D...</td>\n",
       "      <td>-72.404880</td>\n",
       "      <td>86.854739</td>\n",
       "      <td>25.879173</td>\n",
       "    </tr>\n",
       "    <tr>\n",
       "      <th>5</th>\n",
       "      <td>Julie Brewer</td>\n",
       "      <td>95.0</td>\n",
       "      <td>78.865914</td>\n",
       "      <td>166.138609</td>\n",
       "      <td>7504 Traci Views\\nHarrisborough, MS 01374</td>\n",
       "      <td>51.3068585</td>\n",
       "      <td>-105.047506</td>\n",
       "      <td>28.572497</td>\n",
       "    </tr>\n",
       "    <tr>\n",
       "      <th>6</th>\n",
       "      <td>David Hamilton</td>\n",
       "      <td>76.0</td>\n",
       "      <td>67.122609</td>\n",
       "      <td>168.078074</td>\n",
       "      <td>48029 Fleming Fields\\nFranklinborough, DC 78750</td>\n",
       "      <td>-12.3162495</td>\n",
       "      <td>172.738352</td>\n",
       "      <td>23.760014</td>\n",
       "    </tr>\n",
       "    <tr>\n",
       "      <th>7</th>\n",
       "      <td>Jerry Barrett</td>\n",
       "      <td>19.0</td>\n",
       "      <td>74.268657</td>\n",
       "      <td>193.472552</td>\n",
       "      <td>67593 Terri Way\\nAllenfort, SD 75216</td>\n",
       "      <td>-15.732239</td>\n",
       "      <td>118.072142</td>\n",
       "      <td>19.841151</td>\n",
       "    </tr>\n",
       "    <tr>\n",
       "      <th>8</th>\n",
       "      <td>Tina Elliott</td>\n",
       "      <td>78.0</td>\n",
       "      <td>65.431504</td>\n",
       "      <td>185.756402</td>\n",
       "      <td>1706 Martinez Ways Apt. 691\\nMarkborough, SC 2...</td>\n",
       "      <td>38.3078805</td>\n",
       "      <td>154.985120</td>\n",
       "      <td>18.962663</td>\n",
       "    </tr>\n",
       "    <tr>\n",
       "      <th>9</th>\n",
       "      <td>Edward Mccormick</td>\n",
       "      <td>72.0</td>\n",
       "      <td>83.543563</td>\n",
       "      <td>170.260393</td>\n",
       "      <td>384 Stephanie Ports Suite 499\\nNorth Jamiehave...</td>\n",
       "      <td>46.6813785</td>\n",
       "      <td>156.361797</td>\n",
       "      <td>28.819453</td>\n",
       "    </tr>\n",
       "    <tr>\n",
       "      <th>10</th>\n",
       "      <td>Jessica Bowman</td>\n",
       "      <td>85.0</td>\n",
       "      <td>96.298043</td>\n",
       "      <td>165.701602</td>\n",
       "      <td>563 Lester Plaza\\nNorth Maryshire, AZ 96643</td>\n",
       "      <td>16.629287</td>\n",
       "      <td>30.145844</td>\n",
       "      <td>35.072284</td>\n",
       "    </tr>\n",
       "    <tr>\n",
       "      <th>11</th>\n",
       "      <td>Nancy Hopkins</td>\n",
       "      <td>70.0</td>\n",
       "      <td>72.013138</td>\n",
       "      <td>165.997433</td>\n",
       "      <td>USCGC Baxter\\nFPO AP 72674</td>\n",
       "      <td>47.9874315</td>\n",
       "      <td>-21.535081</td>\n",
       "      <td>26.134187</td>\n",
       "    </tr>\n",
       "    <tr>\n",
       "      <th>12</th>\n",
       "      <td>Stephanie Kane</td>\n",
       "      <td>56.0</td>\n",
       "      <td>87.439466</td>\n",
       "      <td>186.295304</td>\n",
       "      <td>PSC 1395, Box 9024\\nAPO AE 17605</td>\n",
       "      <td>65.8506415</td>\n",
       "      <td>120.898679</td>\n",
       "      <td>25.194380</td>\n",
       "    </tr>\n",
       "    <tr>\n",
       "      <th>13</th>\n",
       "      <td>Megan Ramos</td>\n",
       "      <td>85.0</td>\n",
       "      <td>89.010408</td>\n",
       "      <td>174.747047</td>\n",
       "      <td>0957 Rhonda Inlet Apt. 552\\nTiffanyport, PA 06273</td>\n",
       "      <td>63.750040</td>\n",
       "      <td>72.489030</td>\n",
       "      <td>29.148828</td>\n",
       "    </tr>\n",
       "    <tr>\n",
       "      <th>14</th>\n",
       "      <td>Joseph Best</td>\n",
       "      <td>39.0</td>\n",
       "      <td>79.965296</td>\n",
       "      <td>154.337434</td>\n",
       "      <td>PSC 6281, Box 5603\\nAPO AP 12003</td>\n",
       "      <td>21.4451655</td>\n",
       "      <td>-163.549686</td>\n",
       "      <td>33.570592</td>\n",
       "    </tr>\n",
       "    <tr>\n",
       "      <th>15</th>\n",
       "      <td>Michelle Torres</td>\n",
       "      <td>50.0</td>\n",
       "      <td>60.421212</td>\n",
       "      <td>186.971301</td>\n",
       "      <td>9008 Jessica Locks Suite 742\\nAngelicaside, NV...</td>\n",
       "      <td>75.6450525</td>\n",
       "      <td>-178.629227</td>\n",
       "      <td>17.283812</td>\n",
       "    </tr>\n",
       "    <tr>\n",
       "      <th>16</th>\n",
       "      <td>Samuel Martinez</td>\n",
       "      <td>81.0</td>\n",
       "      <td>80.356515</td>\n",
       "      <td>140.000000</td>\n",
       "      <td>71722 Horton Station\\nPalmerbury, TN 92426</td>\n",
       "      <td>-28.1188625</td>\n",
       "      <td>110.197663</td>\n",
       "      <td>40.998222</td>\n",
       "    </tr>\n",
       "    <tr>\n",
       "      <th>17</th>\n",
       "      <td>Tommy Holland</td>\n",
       "      <td>34.0</td>\n",
       "      <td>81.225631</td>\n",
       "      <td>168.478222</td>\n",
       "      <td>725 Melissa Points\\nEast Robert, IN 34336</td>\n",
       "      <td>79.4612025</td>\n",
       "      <td>-120.218447</td>\n",
       "      <td>28.615778</td>\n",
       "    </tr>\n",
       "    <tr>\n",
       "      <th>18</th>\n",
       "      <td>Tyler Stephenson</td>\n",
       "      <td>31.0</td>\n",
       "      <td>74.131934</td>\n",
       "      <td>203.544987</td>\n",
       "      <td>81924 Ryan Canyon Suite 351\\nNew Ashley, KS 07208</td>\n",
       "      <td>12.830839</td>\n",
       "      <td>-139.685786</td>\n",
       "      <td>17.893055</td>\n",
       "    </tr>\n",
       "    <tr>\n",
       "      <th>19</th>\n",
       "      <td>Lisa Kelly</td>\n",
       "      <td>63.0</td>\n",
       "      <td>97.220210</td>\n",
       "      <td>191.623382</td>\n",
       "      <td>338 Williams Drive Suite 869\\nLake Jonathanpor...</td>\n",
       "      <td>-12.3551515</td>\n",
       "      <td>-109.144310</td>\n",
       "      <td>26.476438</td>\n",
       "    </tr>\n",
       "    <tr>\n",
       "      <th>20</th>\n",
       "      <td>Darren Evans</td>\n",
       "      <td>66.0</td>\n",
       "      <td>85.485803</td>\n",
       "      <td>144.829148</td>\n",
       "      <td>77597 Andrew Meadows\\nJasonshire, NE 24461</td>\n",
       "      <td>46.520591</td>\n",
       "      <td>37.024707</td>\n",
       "      <td>40.755107</td>\n",
       "    </tr>\n",
       "    <tr>\n",
       "      <th>21</th>\n",
       "      <td>Ross Baker</td>\n",
       "      <td>23.0</td>\n",
       "      <td>75.815628</td>\n",
       "      <td>168.210709</td>\n",
       "      <td>115 Lisa Extensions Suite 201\\nNew Sarahstad, ...</td>\n",
       "      <td>34.8996355</td>\n",
       "      <td>-155.304231</td>\n",
       "      <td>26.794858</td>\n",
       "    </tr>\n",
       "    <tr>\n",
       "      <th>22</th>\n",
       "      <td>Jamie Franklin MD</td>\n",
       "      <td>23.0</td>\n",
       "      <td>61.879105</td>\n",
       "      <td>165.189717</td>\n",
       "      <td>759 Donna Trace\\nLake Carl, TX 67519</td>\n",
       "      <td>-18.706124</td>\n",
       "      <td>-137.429476</td>\n",
       "      <td>22.676604</td>\n",
       "    </tr>\n",
       "    <tr>\n",
       "      <th>23</th>\n",
       "      <td>Regina Sanchez</td>\n",
       "      <td>22.0</td>\n",
       "      <td>81.431894</td>\n",
       "      <td>194.321244</td>\n",
       "      <td>575 Bruce Turnpike\\nAlexanderchester, MH 99013</td>\n",
       "      <td>-80.999972</td>\n",
       "      <td>104.687414</td>\n",
       "      <td>21.565224</td>\n",
       "    </tr>\n",
       "    <tr>\n",
       "      <th>24</th>\n",
       "      <td>Stefanie Hamilton</td>\n",
       "      <td>91.0</td>\n",
       "      <td>91.460920</td>\n",
       "      <td>184.884941</td>\n",
       "      <td>631 Jessica Rapid\\nAcostaville, OK 63369</td>\n",
       "      <td>74.409804</td>\n",
       "      <td>-8.550428</td>\n",
       "      <td>26.756696</td>\n",
       "    </tr>\n",
       "    <tr>\n",
       "      <th>25</th>\n",
       "      <td>Wendy Buck</td>\n",
       "      <td>84.0</td>\n",
       "      <td>60.535953</td>\n",
       "      <td>200.784105</td>\n",
       "      <td>152 Flores Circles Apt. 162\\nSouth James, UT 2...</td>\n",
       "      <td>78.662760</td>\n",
       "      <td>147.582627</td>\n",
       "      <td>15.016016</td>\n",
       "    </tr>\n",
       "    <tr>\n",
       "      <th>26</th>\n",
       "      <td>Charles Petty DDS</td>\n",
       "      <td>58.0</td>\n",
       "      <td>97.043295</td>\n",
       "      <td>190.524377</td>\n",
       "      <td>56982 Eugene Cliff\\nRodneybury, ME 03672</td>\n",
       "      <td>-83.939675</td>\n",
       "      <td>-150.317302</td>\n",
       "      <td>26.734030</td>\n",
       "    </tr>\n",
       "    <tr>\n",
       "      <th>27</th>\n",
       "      <td>Stephanie Dunn</td>\n",
       "      <td>74.0</td>\n",
       "      <td>75.137802</td>\n",
       "      <td>189.210998</td>\n",
       "      <td>0414 Brown Stream Suite 831\\nEast Jessicatown,...</td>\n",
       "      <td>-19.1250295</td>\n",
       "      <td>8.131110</td>\n",
       "      <td>20.987743</td>\n",
       "    </tr>\n",
       "    <tr>\n",
       "      <th>28</th>\n",
       "      <td>Hailey Gonzales</td>\n",
       "      <td>55.0</td>\n",
       "      <td>60.992408</td>\n",
       "      <td>162.657018</td>\n",
       "      <td>Unit 6999 Box 5026\\nDPO AA 60449</td>\n",
       "      <td>50.306734</td>\n",
       "      <td>137.471064</td>\n",
       "      <td>23.053144</td>\n",
       "    </tr>\n",
       "    <tr>\n",
       "      <th>29</th>\n",
       "      <td>Joseph Lambert</td>\n",
       "      <td>92.0</td>\n",
       "      <td>61.370457</td>\n",
       "      <td>171.526370</td>\n",
       "      <td>03668 Theresa Cove Apt. 871\\nJenningsmouth, NC...</td>\n",
       "      <td>-40.9070735</td>\n",
       "      <td>-18.388051</td>\n",
       "      <td>20.859196</td>\n",
       "    </tr>\n",
       "    <tr>\n",
       "      <th>30</th>\n",
       "      <td>James Roman</td>\n",
       "      <td>55.0</td>\n",
       "      <td>73.793453</td>\n",
       "      <td>171.613744</td>\n",
       "      <td>33422 Roger Port\\nMarquezmouth, RI 40802</td>\n",
       "      <td>-38.648124</td>\n",
       "      <td>48.556202</td>\n",
       "      <td>25.056113</td>\n",
       "    </tr>\n",
       "    <tr>\n",
       "      <th>31</th>\n",
       "      <td>Deborah Smith</td>\n",
       "      <td>99.0</td>\n",
       "      <td>83.205700</td>\n",
       "      <td>157.263509</td>\n",
       "      <td>30843 Carrie Expressway\\nLake Dominic, CT 94262</td>\n",
       "      <td>-40.4698835</td>\n",
       "      <td>-68.676843</td>\n",
       "      <td>33.643189</td>\n",
       "    </tr>\n",
       "    <tr>\n",
       "      <th>32</th>\n",
       "      <td>Rachel Oliver</td>\n",
       "      <td>29.0</td>\n",
       "      <td>62.460264</td>\n",
       "      <td>200.519690</td>\n",
       "      <td>0272 Lauren Gardens\\nPort Nicolefort, WV 46357</td>\n",
       "      <td>-22.810951</td>\n",
       "      <td>-34.235574</td>\n",
       "      <td>15.534231</td>\n",
       "    </tr>\n",
       "    <tr>\n",
       "      <th>33</th>\n",
       "      <td>Amanda Green</td>\n",
       "      <td>88.0</td>\n",
       "      <td>86.863688</td>\n",
       "      <td>185.338925</td>\n",
       "      <td>19753 Garner Drives\\nEast Courtney, NV 70908</td>\n",
       "      <td>38.606133</td>\n",
       "      <td>69.303901</td>\n",
       "      <td>25.287447</td>\n",
       "    </tr>\n",
       "    <tr>\n",
       "      <th>34</th>\n",
       "      <td>Stephen Lang</td>\n",
       "      <td>64.0</td>\n",
       "      <td>84.632650</td>\n",
       "      <td>150.020230</td>\n",
       "      <td>75236 Nguyen Tunnel\\nRamireztown, CA 13950</td>\n",
       "      <td>-18.4782405</td>\n",
       "      <td>16.179086</td>\n",
       "      <td>37.604367</td>\n",
       "    </tr>\n",
       "    <tr>\n",
       "      <th>35</th>\n",
       "      <td>Kevin Castro</td>\n",
       "      <td>86.0</td>\n",
       "      <td>82.843732</td>\n",
       "      <td>194.037768</td>\n",
       "      <td>38538 Jeffrey Fall Apt. 554\\nSouth Ricky, DC 9...</td>\n",
       "      <td>29.1904085</td>\n",
       "      <td>-164.944120</td>\n",
       "      <td>22.003264</td>\n",
       "    </tr>\n",
       "    <tr>\n",
       "      <th>36</th>\n",
       "      <td>Tracy Henderson</td>\n",
       "      <td>60.0</td>\n",
       "      <td>68.060262</td>\n",
       "      <td>165.412586</td>\n",
       "      <td>PSC 4897, Box 9660\\nAPO AE 39932</td>\n",
       "      <td>-67.967772</td>\n",
       "      <td>-16.808407</td>\n",
       "      <td>24.874623</td>\n",
       "    </tr>\n",
       "    <tr>\n",
       "      <th>37</th>\n",
       "      <td>Debra Cross</td>\n",
       "      <td>45.0</td>\n",
       "      <td>93.978888</td>\n",
       "      <td>190.962310</td>\n",
       "      <td>989 Rodriguez Station Apt. 009\\nSouth Nicole, ...</td>\n",
       "      <td>-10.078266</td>\n",
       "      <td>106.850525</td>\n",
       "      <td>25.771220</td>\n",
       "    </tr>\n",
       "    <tr>\n",
       "      <th>38</th>\n",
       "      <td>Jessica Miller</td>\n",
       "      <td>93.0</td>\n",
       "      <td>68.774857</td>\n",
       "      <td>169.602142</td>\n",
       "      <td>92380 Joseph Mill\\nHaleyland, IA 62156</td>\n",
       "      <td>-14.481491</td>\n",
       "      <td>-179.301596</td>\n",
       "      <td>23.909309</td>\n",
       "    </tr>\n",
       "    <tr>\n",
       "      <th>39</th>\n",
       "      <td>Deborah Henson</td>\n",
       "      <td>49.0</td>\n",
       "      <td>78.944759</td>\n",
       "      <td>161.857964</td>\n",
       "      <td>Unit 6735 Box 3992\\nDPO AP 10475</td>\n",
       "      <td>-70.2013725</td>\n",
       "      <td>66.401382</td>\n",
       "      <td>30.133887</td>\n",
       "    </tr>\n",
       "    <tr>\n",
       "      <th>40</th>\n",
       "      <td>Nathaniel Duncan</td>\n",
       "      <td>61.0</td>\n",
       "      <td>98.926071</td>\n",
       "      <td>160.792301</td>\n",
       "      <td>972 Cobb Road\\nEast Feliciaside, ID 43366</td>\n",
       "      <td>40.8525525</td>\n",
       "      <td>-151.540742</td>\n",
       "      <td>38.263109</td>\n",
       "    </tr>\n",
       "    <tr>\n",
       "      <th>41</th>\n",
       "      <td>Emily Murphy</td>\n",
       "      <td>85.0</td>\n",
       "      <td>60.952866</td>\n",
       "      <td>153.660131</td>\n",
       "      <td>666 Charles Isle Apt. 438\\nWest Vanessamouth, ...</td>\n",
       "      <td>57.2961015</td>\n",
       "      <td>-142.110731</td>\n",
       "      <td>25.814977</td>\n",
       "    </tr>\n",
       "    <tr>\n",
       "      <th>42</th>\n",
       "      <td>Dorothy Simpson</td>\n",
       "      <td>32.0</td>\n",
       "      <td>70.952918</td>\n",
       "      <td>167.313038</td>\n",
       "      <td>738 Hart Crescent\\nEast Jessicafort, NM 08755</td>\n",
       "      <td>64.5990365</td>\n",
       "      <td>107.601223</td>\n",
       "      <td>25.346074</td>\n",
       "    </tr>\n",
       "    <tr>\n",
       "      <th>43</th>\n",
       "      <td>Kyle Patton</td>\n",
       "      <td>79.0</td>\n",
       "      <td>62.479930</td>\n",
       "      <td>151.318481</td>\n",
       "      <td>54929 Fritz Well\\nCrystalton, MP 02862</td>\n",
       "      <td>-8.1875385</td>\n",
       "      <td>-59.709037</td>\n",
       "      <td>27.287050</td>\n",
       "    </tr>\n",
       "    <tr>\n",
       "      <th>44</th>\n",
       "      <td>Kim Edwards</td>\n",
       "      <td>89.0</td>\n",
       "      <td>95.106913</td>\n",
       "      <td>186.155703</td>\n",
       "      <td>3230 Morales Square\\nWest Riley, WI 79247</td>\n",
       "      <td>15.6253325</td>\n",
       "      <td>-21.825937</td>\n",
       "      <td>27.444757</td>\n",
       "    </tr>\n",
       "    <tr>\n",
       "      <th>45</th>\n",
       "      <td>Kara Hudson</td>\n",
       "      <td>28.0</td>\n",
       "      <td>88.355188</td>\n",
       "      <td>165.333509</td>\n",
       "      <td>00906 Booker Station\\nRobertsonport, MA 33673</td>\n",
       "      <td>-5.144641</td>\n",
       "      <td>-67.009421</td>\n",
       "      <td>32.322898</td>\n",
       "    </tr>\n",
       "    <tr>\n",
       "      <th>46</th>\n",
       "      <td>Jeffrey Cortez</td>\n",
       "      <td>33.0</td>\n",
       "      <td>64.216535</td>\n",
       "      <td>174.537377</td>\n",
       "      <td>502 Steven Trace Apt. 136\\nSmithhaven, WV 34082</td>\n",
       "      <td>-15.481300</td>\n",
       "      <td>60.548916</td>\n",
       "      <td>21.079970</td>\n",
       "    </tr>\n",
       "    <tr>\n",
       "      <th>47</th>\n",
       "      <td>Jordan Martin</td>\n",
       "      <td>94.0</td>\n",
       "      <td>98.705274</td>\n",
       "      <td>184.255170</td>\n",
       "      <td>36876 Harris Knolls\\nMartinmouth, MP 22943</td>\n",
       "      <td>59.623321</td>\n",
       "      <td>-60.371827</td>\n",
       "      <td>29.073746</td>\n",
       "    </tr>\n",
       "    <tr>\n",
       "      <th>48</th>\n",
       "      <td>Carl Robinson</td>\n",
       "      <td>88.0</td>\n",
       "      <td>88.519725</td>\n",
       "      <td>158.516236</td>\n",
       "      <td>18572 Cynthia Lakes\\nBrookschester, FM 53981</td>\n",
       "      <td>73.619829</td>\n",
       "      <td>39.871589</td>\n",
       "      <td>35.228370</td>\n",
       "    </tr>\n",
       "    <tr>\n",
       "      <th>49</th>\n",
       "      <td>Susan Riley</td>\n",
       "      <td>100.0</td>\n",
       "      <td>90.566559</td>\n",
       "      <td>152.484786</td>\n",
       "      <td>Unit 9468 Box 3310\\nDPO AE 14262</td>\n",
       "      <td>46.7590715</td>\n",
       "      <td>-175.829112</td>\n",
       "      <td>38.950662</td>\n",
       "    </tr>\n",
       "  </tbody>\n",
       "</table>\n",
       "</div>"
      ],
      "text/plain": [
       "                 name    age     Weight      height  \\\n",
       "0       Matthew Sharp   65.0  73.449209  180.106724   \n",
       "1         Lisa Santos   77.0  77.631623  185.100037   \n",
       "2   Patrick Rodriguez   37.0  61.870209  170.895671   \n",
       "3        Robert Mejia   38.0  80.191661  207.149363   \n",
       "4      Jeremiah Moore   33.0  88.359256  184.778240   \n",
       "5        Julie Brewer   95.0  78.865914  166.138609   \n",
       "6      David Hamilton   76.0  67.122609  168.078074   \n",
       "7       Jerry Barrett   19.0  74.268657  193.472552   \n",
       "8        Tina Elliott   78.0  65.431504  185.756402   \n",
       "9    Edward Mccormick   72.0  83.543563  170.260393   \n",
       "10     Jessica Bowman   85.0  96.298043  165.701602   \n",
       "11      Nancy Hopkins   70.0  72.013138  165.997433   \n",
       "12     Stephanie Kane   56.0  87.439466  186.295304   \n",
       "13        Megan Ramos   85.0  89.010408  174.747047   \n",
       "14        Joseph Best   39.0  79.965296  154.337434   \n",
       "15    Michelle Torres   50.0  60.421212  186.971301   \n",
       "16    Samuel Martinez   81.0  80.356515  140.000000   \n",
       "17      Tommy Holland   34.0  81.225631  168.478222   \n",
       "18   Tyler Stephenson   31.0  74.131934  203.544987   \n",
       "19         Lisa Kelly   63.0  97.220210  191.623382   \n",
       "20       Darren Evans   66.0  85.485803  144.829148   \n",
       "21         Ross Baker   23.0  75.815628  168.210709   \n",
       "22  Jamie Franklin MD   23.0  61.879105  165.189717   \n",
       "23     Regina Sanchez   22.0  81.431894  194.321244   \n",
       "24  Stefanie Hamilton   91.0  91.460920  184.884941   \n",
       "25         Wendy Buck   84.0  60.535953  200.784105   \n",
       "26  Charles Petty DDS   58.0  97.043295  190.524377   \n",
       "27     Stephanie Dunn   74.0  75.137802  189.210998   \n",
       "28    Hailey Gonzales   55.0  60.992408  162.657018   \n",
       "29     Joseph Lambert   92.0  61.370457  171.526370   \n",
       "30        James Roman   55.0  73.793453  171.613744   \n",
       "31      Deborah Smith   99.0  83.205700  157.263509   \n",
       "32      Rachel Oliver   29.0  62.460264  200.519690   \n",
       "33       Amanda Green   88.0  86.863688  185.338925   \n",
       "34       Stephen Lang   64.0  84.632650  150.020230   \n",
       "35       Kevin Castro   86.0  82.843732  194.037768   \n",
       "36    Tracy Henderson   60.0  68.060262  165.412586   \n",
       "37        Debra Cross   45.0  93.978888  190.962310   \n",
       "38     Jessica Miller   93.0  68.774857  169.602142   \n",
       "39     Deborah Henson   49.0  78.944759  161.857964   \n",
       "40   Nathaniel Duncan   61.0  98.926071  160.792301   \n",
       "41       Emily Murphy   85.0  60.952866  153.660131   \n",
       "42    Dorothy Simpson   32.0  70.952918  167.313038   \n",
       "43        Kyle Patton   79.0  62.479930  151.318481   \n",
       "44        Kim Edwards   89.0  95.106913  186.155703   \n",
       "45        Kara Hudson   28.0  88.355188  165.333509   \n",
       "46     Jeffrey Cortez   33.0  64.216535  174.537377   \n",
       "47      Jordan Martin   94.0  98.705274  184.255170   \n",
       "48      Carl Robinson   88.0  88.519725  158.516236   \n",
       "49        Susan Riley  100.0  90.566559  152.484786   \n",
       "\n",
       "                                              address     latitude  \\\n",
       "0       430 Johnson Ferry\\nEast Natalieberg, ND 42350   -49.626543   \n",
       "1       569 Hall Via Suite 557\\nHaleborough, CO 10449   -60.476220   \n",
       "2      008 Bird Brooks\\nSouth Katherinestad, PW 42643   -33.886228   \n",
       "3   474 Johnson River Apt. 510\\nPeckchester, WA 59915  -78.0962875   \n",
       "4   7830 Shelby Stravenue Apt. 293\\nSouth Erica, D...   -72.404880   \n",
       "5           7504 Traci Views\\nHarrisborough, MS 01374   51.3068585   \n",
       "6     48029 Fleming Fields\\nFranklinborough, DC 78750  -12.3162495   \n",
       "7                67593 Terri Way\\nAllenfort, SD 75216   -15.732239   \n",
       "8   1706 Martinez Ways Apt. 691\\nMarkborough, SC 2...   38.3078805   \n",
       "9   384 Stephanie Ports Suite 499\\nNorth Jamiehave...   46.6813785   \n",
       "10        563 Lester Plaza\\nNorth Maryshire, AZ 96643    16.629287   \n",
       "11                         USCGC Baxter\\nFPO AP 72674   47.9874315   \n",
       "12                   PSC 1395, Box 9024\\nAPO AE 17605   65.8506415   \n",
       "13  0957 Rhonda Inlet Apt. 552\\nTiffanyport, PA 06273    63.750040   \n",
       "14                   PSC 6281, Box 5603\\nAPO AP 12003   21.4451655   \n",
       "15  9008 Jessica Locks Suite 742\\nAngelicaside, NV...   75.6450525   \n",
       "16         71722 Horton Station\\nPalmerbury, TN 92426  -28.1188625   \n",
       "17          725 Melissa Points\\nEast Robert, IN 34336   79.4612025   \n",
       "18  81924 Ryan Canyon Suite 351\\nNew Ashley, KS 07208    12.830839   \n",
       "19  338 Williams Drive Suite 869\\nLake Jonathanpor...  -12.3551515   \n",
       "20         77597 Andrew Meadows\\nJasonshire, NE 24461    46.520591   \n",
       "21  115 Lisa Extensions Suite 201\\nNew Sarahstad, ...   34.8996355   \n",
       "22               759 Donna Trace\\nLake Carl, TX 67519   -18.706124   \n",
       "23     575 Bruce Turnpike\\nAlexanderchester, MH 99013   -80.999972   \n",
       "24           631 Jessica Rapid\\nAcostaville, OK 63369    74.409804   \n",
       "25  152 Flores Circles Apt. 162\\nSouth James, UT 2...    78.662760   \n",
       "26           56982 Eugene Cliff\\nRodneybury, ME 03672   -83.939675   \n",
       "27  0414 Brown Stream Suite 831\\nEast Jessicatown,...  -19.1250295   \n",
       "28                   Unit 6999 Box 5026\\nDPO AA 60449    50.306734   \n",
       "29  03668 Theresa Cove Apt. 871\\nJenningsmouth, NC...  -40.9070735   \n",
       "30           33422 Roger Port\\nMarquezmouth, RI 40802   -38.648124   \n",
       "31    30843 Carrie Expressway\\nLake Dominic, CT 94262  -40.4698835   \n",
       "32     0272 Lauren Gardens\\nPort Nicolefort, WV 46357   -22.810951   \n",
       "33       19753 Garner Drives\\nEast Courtney, NV 70908    38.606133   \n",
       "34         75236 Nguyen Tunnel\\nRamireztown, CA 13950  -18.4782405   \n",
       "35  38538 Jeffrey Fall Apt. 554\\nSouth Ricky, DC 9...   29.1904085   \n",
       "36                   PSC 4897, Box 9660\\nAPO AE 39932   -67.967772   \n",
       "37  989 Rodriguez Station Apt. 009\\nSouth Nicole, ...   -10.078266   \n",
       "38             92380 Joseph Mill\\nHaleyland, IA 62156   -14.481491   \n",
       "39                   Unit 6735 Box 3992\\nDPO AP 10475  -70.2013725   \n",
       "40          972 Cobb Road\\nEast Feliciaside, ID 43366   40.8525525   \n",
       "41  666 Charles Isle Apt. 438\\nWest Vanessamouth, ...   57.2961015   \n",
       "42      738 Hart Crescent\\nEast Jessicafort, NM 08755   64.5990365   \n",
       "43             54929 Fritz Well\\nCrystalton, MP 02862   -8.1875385   \n",
       "44          3230 Morales Square\\nWest Riley, WI 79247   15.6253325   \n",
       "45      00906 Booker Station\\nRobertsonport, MA 33673    -5.144641   \n",
       "46    502 Steven Trace Apt. 136\\nSmithhaven, WV 34082   -15.481300   \n",
       "47         36876 Harris Knolls\\nMartinmouth, MP 22943    59.623321   \n",
       "48       18572 Cynthia Lakes\\nBrookschester, FM 53981    73.619829   \n",
       "49                   Unit 9468 Box 3310\\nDPO AE 14262   46.7590715   \n",
       "\n",
       "      longitude        bmi  \n",
       "0    114.513051  22.642651  \n",
       "1   -111.592557  22.658213  \n",
       "2     92.204212  21.184561  \n",
       "3     46.591535  18.687965  \n",
       "4     86.854739  25.879173  \n",
       "5   -105.047506  28.572497  \n",
       "6    172.738352  23.760014  \n",
       "7    118.072142  19.841151  \n",
       "8    154.985120  18.962663  \n",
       "9    156.361797  28.819453  \n",
       "10    30.145844  35.072284  \n",
       "11   -21.535081  26.134187  \n",
       "12   120.898679  25.194380  \n",
       "13    72.489030  29.148828  \n",
       "14  -163.549686  33.570592  \n",
       "15  -178.629227  17.283812  \n",
       "16   110.197663  40.998222  \n",
       "17  -120.218447  28.615778  \n",
       "18  -139.685786  17.893055  \n",
       "19  -109.144310  26.476438  \n",
       "20    37.024707  40.755107  \n",
       "21  -155.304231  26.794858  \n",
       "22  -137.429476  22.676604  \n",
       "23   104.687414  21.565224  \n",
       "24    -8.550428  26.756696  \n",
       "25   147.582627  15.016016  \n",
       "26  -150.317302  26.734030  \n",
       "27     8.131110  20.987743  \n",
       "28   137.471064  23.053144  \n",
       "29   -18.388051  20.859196  \n",
       "30    48.556202  25.056113  \n",
       "31   -68.676843  33.643189  \n",
       "32   -34.235574  15.534231  \n",
       "33    69.303901  25.287447  \n",
       "34    16.179086  37.604367  \n",
       "35  -164.944120  22.003264  \n",
       "36   -16.808407  24.874623  \n",
       "37   106.850525  25.771220  \n",
       "38  -179.301596  23.909309  \n",
       "39    66.401382  30.133887  \n",
       "40  -151.540742  38.263109  \n",
       "41  -142.110731  25.814977  \n",
       "42   107.601223  25.346074  \n",
       "43   -59.709037  27.287050  \n",
       "44   -21.825937  27.444757  \n",
       "45   -67.009421  32.322898  \n",
       "46    60.548916  21.079970  \n",
       "47   -60.371827  29.073746  \n",
       "48    39.871589  35.228370  \n",
       "49  -175.829112  38.950662  "
      ]
     },
     "execution_count": 46,
     "metadata": {},
     "output_type": "execute_result"
    }
   ],
   "source": [
    "from random import randint\n",
    "import pandas as pd\n",
    "import random\n",
    "from faker import Faker\n",
    "import numpy as np\n",
    "\n",
    "fake = Faker()\n",
    "\n",
    "def input_data(n_rows):\n",
    "    # Création d'un DataFrame pandas\n",
    "    data = pd.DataFrame()\n",
    "    \n",
    "    for i in range(n_rows):\n",
    "        data.loc[i, 'name'] = fake.name()\n",
    "        data.loc[i, 'age'] = fake.random_int(18, 100)\n",
    "        data.loc[i, 'Weight'] = random.uniform(60, 100)  # Poids en kg\n",
    "        data.loc[i, 'height'] = max(140, np.random.normal(180, 15.5))  # Taille en cm (min 140 cm)\n",
    "        data.loc[i, 'address'] = fake.address()\n",
    "        data.loc[i, 'latitude'] = str(fake.latitude())\n",
    "        data.loc[i, 'longitude'] = str(fake.longitude())\n",
    "\n",
    "        # Calcul de l'IMC (BMI = poids / (taille en m)^2)\n",
    "        height_m = data.loc[i, 'height'] / 100  # Conversion en mètres\n",
    "        data.loc[i, 'bmi'] = data.loc[i, 'Weight'] / (height_m ** 2)\n",
    "    \n",
    "    return data\n",
    "\n",
    "# Génération de 50 lignes\n",
    "df = input_data(50)\n",
    "df\n"
   ]
  },
  {
   "cell_type": "code",
   "execution_count": null,
   "metadata": {},
   "outputs": [],
   "source": []
  }
 ],
 "metadata": {
  "colab": {
   "provenance": []
  },
  "kernelspec": {
   "display_name": "Python 3 (ipykernel)",
   "language": "python",
   "name": "python3"
  },
  "language_info": {
   "codemirror_mode": {
    "name": "ipython",
    "version": 3
   },
   "file_extension": ".py",
   "mimetype": "text/x-python",
   "name": "python",
   "nbconvert_exporter": "python",
   "pygments_lexer": "ipython3",
   "version": "3.13.2"
  }
 },
 "nbformat": 4,
 "nbformat_minor": 4
}
